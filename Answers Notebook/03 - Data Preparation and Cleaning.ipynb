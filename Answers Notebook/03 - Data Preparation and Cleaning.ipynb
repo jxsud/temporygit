{
 "cells": [
  {
   "cell_type": "markdown",
   "metadata": {},
   "source": [
    "<img style=\"float: right;\" width=\"120\" src=\"https://s3.eu-west-1.amazonaws.com/neueda.conygre.com/pydata/images/neueda-logo.jpeg\">\n",
    "<br><br><br>"
   ]
  },
  {
   "cell_type": "markdown",
   "metadata": {},
   "source": [
    "# Synopsis\n",
    "\n",
    "\n",
    "This notebook will explain the following topics and concepts:\n",
    "\n",
    "**Missing Data** \n",
    "- detecting\n",
    "- removing\n",
    "- filling in\n",
    "\n",
    "**Data Transformation**\n",
    "- counting values\n",
    "- Imputing\n",
    "- Removing Duplicates\n",
    "- Replacing Values\n",
    "- Common String Methods\n",
    "\n",
    "**Importing formatted numerics**\n",
    "\n",
    "**Pandas Options and Customisation**\n",
    "- String Formatting\n",
    "- Display Options\n",
    "- Style\n"
   ]
  },
  {
   "cell_type": "markdown",
   "metadata": {},
   "source": [
    "# Import packages"
   ]
  },
  {
   "cell_type": "code",
   "execution_count": 2,
   "metadata": {
    "tags": [
     "student_to_fill"
    ]
   },
   "outputs": [],
   "source": [
    "# import pandas and numpy\n",
    "import pandas as pd\n",
    "import numpy as np"
   ]
  },
  {
   "cell_type": "markdown",
   "metadata": {},
   "source": [
    "# Missing Data\n",
    "\n",
    "three main problems that missing data causes: \n",
    ">\n",
    "> introduction of a substantial amount of bias <BR>\n",
    "> make the handling and analysis of the data more arduous <BR>\n",
    "> and create reductions in efficiency <BR>\n",
    ">\n",
    " "
   ]
  },
  {
   "cell_type": "markdown",
   "metadata": {},
   "source": [
    "## Filtering out missing data\n",
    "\n",
    "- **dropna()**  - Will detect and remove rows or columns (it's usually used for rows) where data is missing.\n",
    "\n",
    "- Returns a copy, not the original.\n",
    "\n",
    "- Catch result in a new variable OR set **inplace=True** to alter the original DataFrame."
   ]
  },
  {
   "cell_type": "code",
   "execution_count": 3,
   "metadata": {
    "tags": [
     "student_to_fill"
    ]
   },
   "outputs": [
    {
     "data": {
      "text/plain": [
       "0    AAA\n",
       "1    BBB\n",
       "2    NaN\n",
       "3    DDD\n",
       "dtype: object"
      ]
     },
     "execution_count": 3,
     "metadata": {},
     "output_type": "execute_result"
    }
   ],
   "source": [
    "# Simple Series for demonstration\n",
    "arr = ['AAA', 'BBB', np.nan, 'DDD']\n",
    "demo_series = pd.Series(data = arr)\n",
    "demo_series"
   ]
  },
  {
   "cell_type": "code",
   "execution_count": 4,
   "metadata": {
    "tags": [
     "student_to_fill"
    ]
   },
   "outputs": [
    {
     "data": {
      "text/plain": [
       "0    AAA\n",
       "1    BBB\n",
       "3    DDD\n",
       "dtype: object"
      ]
     },
     "execution_count": 4,
     "metadata": {},
     "output_type": "execute_result"
    }
   ],
   "source": [
    "# drop all invalid values - what happens?\n",
    "\n",
    "demo_series.dropna()"
   ]
  },
  {
   "cell_type": "markdown",
   "metadata": {},
   "source": [
    "## Import Test Data"
   ]
  },
  {
   "cell_type": "code",
   "execution_count": 5,
   "metadata": {},
   "outputs": [
    {
     "data": {
      "text/plain": [
       "<bound method NDFrame.head of        A    B    C\n",
       "0   38.0    I  1.0\n",
       "1   40.0   II  2.0\n",
       "2   35.0    I  NaN\n",
       "3    NaN   II  4.0\n",
       "4   38.0    I  1.0\n",
       "5   40.0   II  2.0\n",
       "6   35.0    I  3.0\n",
       "7    NaN  NaN  4.0\n",
       "8   38.0  III  3.0\n",
       "9   38.0    I  1.0\n",
       "10  40.0  NaN  NaN\n",
       "11  35.0    I  3.0\n",
       "12   NaN   II  4.0\n",
       "13  38.0    I  1.0\n",
       "14  40.0   II  2.0\n",
       "15  35.0    I  3.0\n",
       "16   NaN   II  4.0\n",
       "17  38.0  III  3.0\n",
       "18  38.0    I  NaN\n",
       "19  40.0   II  2.0\n",
       "20  35.0    I  3.0\n",
       "21   NaN   II  4.0\n",
       "22  38.0    I  1.0\n",
       "23  40.0  NaN  2.0\n",
       "24  35.0    I  3.0\n",
       "25   NaN   II  NaN\n",
       "26  38.0  III  3.0>"
      ]
     },
     "execution_count": 5,
     "metadata": {},
     "output_type": "execute_result"
    }
   ],
   "source": [
    "# read in some data from an excel file, sheet is called 'MissingData'\n",
    "df_missing = pd.read_excel(io='https://s3.eu-west-1.amazonaws.com/neueda.conygre.com/pydata/sample_data.xls',\n",
    "                           sheet_name='MissingData')\n",
    "\n",
    "df_missing.head"
   ]
  },
  {
   "cell_type": "markdown",
   "metadata": {},
   "source": [
    "## Detecting Missing Data\n",
    "\n",
    "Pandas includes a number of functions to detect missing or invalid data.\n",
    "\n",
    "- isnull  - Returns a Series containing True/False indicating if each value is missing.\n",
    "- notnull - Opposite (negation) of isnull: True if value is not null, False otherwise.\n",
    "- sum - how many null or not nulls exist\n"
   ]
  },
  {
   "cell_type": "code",
   "execution_count": 6,
   "metadata": {
    "tags": [
     "student_to_fill"
    ]
   },
   "outputs": [
    {
     "data": {
      "text/plain": [
       "13"
      ]
     },
     "execution_count": 6,
     "metadata": {},
     "output_type": "execute_result"
    }
   ],
   "source": [
    "# try isnull() and notnull()\n",
    "df_missing.isnull()\n",
    "\n",
    "df_missing.notnull()\n",
    "\n",
    "# How many in each column\n",
    "df_missing.isnull().sum()\n",
    "\n",
    "# How amny are empty in the entire dataset\n",
    "df_missing.isnull().sum().sum()"
   ]
  },
  {
   "cell_type": "markdown",
   "metadata": {},
   "source": [
    "## Filling in missing values\n",
    "- **fillna()**  - Will detect and empty values and fill them in.\n",
    "\n",
    "- You can give it a value to fill with\n",
    "- Alternatively, it can fill with values from cells before or after the missing value (backfill or forwardfill).\n",
    "- Again, catch result in a new variable OR set **inplace=True** to alter the original DataFrame."
   ]
  },
  {
   "cell_type": "code",
   "execution_count": 7,
   "metadata": {
    "tags": [
     "student_to_fill"
    ]
   },
   "outputs": [
    {
     "data": {
      "text/html": [
       "<div>\n",
       "<style scoped>\n",
       "    .dataframe tbody tr th:only-of-type {\n",
       "        vertical-align: middle;\n",
       "    }\n",
       "\n",
       "    .dataframe tbody tr th {\n",
       "        vertical-align: top;\n",
       "    }\n",
       "\n",
       "    .dataframe thead th {\n",
       "        text-align: right;\n",
       "    }\n",
       "</style>\n",
       "<table border=\"1\" class=\"dataframe\">\n",
       "  <thead>\n",
       "    <tr style=\"text-align: right;\">\n",
       "      <th></th>\n",
       "      <th>A</th>\n",
       "      <th>B</th>\n",
       "      <th>C</th>\n",
       "    </tr>\n",
       "  </thead>\n",
       "  <tbody>\n",
       "    <tr>\n",
       "      <th>0</th>\n",
       "      <td>38.00</td>\n",
       "      <td>I</td>\n",
       "      <td>1.00</td>\n",
       "    </tr>\n",
       "    <tr>\n",
       "      <th>1</th>\n",
       "      <td>40.00</td>\n",
       "      <td>II</td>\n",
       "      <td>2.00</td>\n",
       "    </tr>\n",
       "    <tr>\n",
       "      <th>2</th>\n",
       "      <td>35.00</td>\n",
       "      <td>I</td>\n",
       "      <td>0.42</td>\n",
       "    </tr>\n",
       "    <tr>\n",
       "      <th>3</th>\n",
       "      <td>0.42</td>\n",
       "      <td>II</td>\n",
       "      <td>4.00</td>\n",
       "    </tr>\n",
       "    <tr>\n",
       "      <th>4</th>\n",
       "      <td>38.00</td>\n",
       "      <td>I</td>\n",
       "      <td>1.00</td>\n",
       "    </tr>\n",
       "    <tr>\n",
       "      <th>5</th>\n",
       "      <td>40.00</td>\n",
       "      <td>II</td>\n",
       "      <td>2.00</td>\n",
       "    </tr>\n",
       "    <tr>\n",
       "      <th>6</th>\n",
       "      <td>35.00</td>\n",
       "      <td>I</td>\n",
       "      <td>3.00</td>\n",
       "    </tr>\n",
       "    <tr>\n",
       "      <th>7</th>\n",
       "      <td>0.42</td>\n",
       "      <td>0.42</td>\n",
       "      <td>4.00</td>\n",
       "    </tr>\n",
       "    <tr>\n",
       "      <th>8</th>\n",
       "      <td>38.00</td>\n",
       "      <td>III</td>\n",
       "      <td>3.00</td>\n",
       "    </tr>\n",
       "    <tr>\n",
       "      <th>9</th>\n",
       "      <td>38.00</td>\n",
       "      <td>I</td>\n",
       "      <td>1.00</td>\n",
       "    </tr>\n",
       "    <tr>\n",
       "      <th>10</th>\n",
       "      <td>40.00</td>\n",
       "      <td>0.42</td>\n",
       "      <td>0.42</td>\n",
       "    </tr>\n",
       "    <tr>\n",
       "      <th>11</th>\n",
       "      <td>35.00</td>\n",
       "      <td>I</td>\n",
       "      <td>3.00</td>\n",
       "    </tr>\n",
       "    <tr>\n",
       "      <th>12</th>\n",
       "      <td>0.42</td>\n",
       "      <td>II</td>\n",
       "      <td>4.00</td>\n",
       "    </tr>\n",
       "    <tr>\n",
       "      <th>13</th>\n",
       "      <td>38.00</td>\n",
       "      <td>I</td>\n",
       "      <td>1.00</td>\n",
       "    </tr>\n",
       "    <tr>\n",
       "      <th>14</th>\n",
       "      <td>40.00</td>\n",
       "      <td>II</td>\n",
       "      <td>2.00</td>\n",
       "    </tr>\n",
       "    <tr>\n",
       "      <th>15</th>\n",
       "      <td>35.00</td>\n",
       "      <td>I</td>\n",
       "      <td>3.00</td>\n",
       "    </tr>\n",
       "    <tr>\n",
       "      <th>16</th>\n",
       "      <td>0.42</td>\n",
       "      <td>II</td>\n",
       "      <td>4.00</td>\n",
       "    </tr>\n",
       "    <tr>\n",
       "      <th>17</th>\n",
       "      <td>38.00</td>\n",
       "      <td>III</td>\n",
       "      <td>3.00</td>\n",
       "    </tr>\n",
       "    <tr>\n",
       "      <th>18</th>\n",
       "      <td>38.00</td>\n",
       "      <td>I</td>\n",
       "      <td>0.42</td>\n",
       "    </tr>\n",
       "    <tr>\n",
       "      <th>19</th>\n",
       "      <td>40.00</td>\n",
       "      <td>II</td>\n",
       "      <td>2.00</td>\n",
       "    </tr>\n",
       "    <tr>\n",
       "      <th>20</th>\n",
       "      <td>35.00</td>\n",
       "      <td>I</td>\n",
       "      <td>3.00</td>\n",
       "    </tr>\n",
       "    <tr>\n",
       "      <th>21</th>\n",
       "      <td>0.42</td>\n",
       "      <td>II</td>\n",
       "      <td>4.00</td>\n",
       "    </tr>\n",
       "    <tr>\n",
       "      <th>22</th>\n",
       "      <td>38.00</td>\n",
       "      <td>I</td>\n",
       "      <td>1.00</td>\n",
       "    </tr>\n",
       "    <tr>\n",
       "      <th>23</th>\n",
       "      <td>40.00</td>\n",
       "      <td>0.42</td>\n",
       "      <td>2.00</td>\n",
       "    </tr>\n",
       "    <tr>\n",
       "      <th>24</th>\n",
       "      <td>35.00</td>\n",
       "      <td>I</td>\n",
       "      <td>3.00</td>\n",
       "    </tr>\n",
       "    <tr>\n",
       "      <th>25</th>\n",
       "      <td>0.42</td>\n",
       "      <td>II</td>\n",
       "      <td>0.42</td>\n",
       "    </tr>\n",
       "    <tr>\n",
       "      <th>26</th>\n",
       "      <td>38.00</td>\n",
       "      <td>III</td>\n",
       "      <td>3.00</td>\n",
       "    </tr>\n",
       "  </tbody>\n",
       "</table>\n",
       "</div>"
      ],
      "text/plain": [
       "        A     B     C\n",
       "0   38.00     I  1.00\n",
       "1   40.00    II  2.00\n",
       "2   35.00     I  0.42\n",
       "3    0.42    II  4.00\n",
       "4   38.00     I  1.00\n",
       "5   40.00    II  2.00\n",
       "6   35.00     I  3.00\n",
       "7    0.42  0.42  4.00\n",
       "8   38.00   III  3.00\n",
       "9   38.00     I  1.00\n",
       "10  40.00  0.42  0.42\n",
       "11  35.00     I  3.00\n",
       "12   0.42    II  4.00\n",
       "13  38.00     I  1.00\n",
       "14  40.00    II  2.00\n",
       "15  35.00     I  3.00\n",
       "16   0.42    II  4.00\n",
       "17  38.00   III  3.00\n",
       "18  38.00     I  0.42\n",
       "19  40.00    II  2.00\n",
       "20  35.00     I  3.00\n",
       "21   0.42    II  4.00\n",
       "22  38.00     I  1.00\n",
       "23  40.00  0.42  2.00\n",
       "24  35.00     I  3.00\n",
       "25   0.42    II  0.42\n",
       "26  38.00   III  3.00"
      ]
     },
     "execution_count": 7,
     "metadata": {},
     "output_type": "execute_result"
    }
   ],
   "source": [
    "# use fillna - returns a new object, can use inplace=True if desired\n",
    "df_missing.fillna(0.42, inplace=True)\n",
    "df_missing"
   ]
  },
  {
   "cell_type": "markdown",
   "metadata": {},
   "source": [
    "# Data Transformation\n"
   ]
  },
  {
   "cell_type": "markdown",
   "metadata": {},
   "source": [
    "## Removing duplicates\n",
    "\n",
    "- **duplicated()** : indicates whether each row is a duplicate.\n",
    "- **drop_duplicates()** : returns a copy of the DataFrame with the duplicates removed (or inplace=True)."
   ]
  },
  {
   "cell_type": "code",
   "execution_count": null,
   "metadata": {
    "tags": [
     "student_to_fill"
    ]
   },
   "outputs": [],
   "source": [
    "# view all duplicates in df_missing?\n",
    "display(df_missing)\n",
    "df_missing.duplicated()"
   ]
  },
  {
   "cell_type": "code",
   "execution_count": null,
   "metadata": {
    "tags": [
     "student_to_fill"
    ]
   },
   "outputs": [],
   "source": [
    "# drop all duplicates  - what parameters are there?\n",
    "df_missing.drop_duplicates()"
   ]
  },
  {
   "cell_type": "markdown",
   "metadata": {},
   "source": [
    "## Replacing Values\n",
    "- **df.replace(to_replace, value)** : find and replace specific values.\n",
    "- The parameters **to_replace** and **value** can both be either single values or lists of values.\n",
    "- Returns a copy so again either use **inplace=True** OR catch the returned DataFrame in a new variable."
   ]
  },
  {
   "cell_type": "code",
   "execution_count": null,
   "metadata": {
    "tags": [
     "student_to_fill"
    ]
   },
   "outputs": [],
   "source": [
    "# replace all 2 with 22\n",
    "df_missing.replace(2,22, inplace=True)\n",
    "df_missing"
   ]
  },
  {
   "cell_type": "code",
   "execution_count": null,
   "metadata": {
    "tags": [
     "student_to_fill"
    ]
   },
   "outputs": [],
   "source": [
    "# replace all 'I' with 11 AND 'III' with 33\n",
    "df_missing = df_missing.replace(['I', 'III'],[11, 33])\n",
    "df_missing"
   ]
  },
  {
   "cell_type": "code",
   "execution_count": null,
   "metadata": {
    "tags": [
     "student_to_fill"
    ]
   },
   "outputs": [],
   "source": [
    "# or use variables for the originals and replacements\n",
    "orig_vals = ['I', 'III']\n",
    "new_vals = [11, 33]\n",
    "\n",
    "df_missing.replace(orig_vals,new_vals, inplace=True)\n",
    "df_missing"
   ]
  },
  {
   "cell_type": "markdown",
   "metadata": {},
   "source": [
    "# Importing Formatted Numerics\n",
    "\n",
    "Some files may have had their numeric data formatted.<br>\n",
    "Pandas will interpret such values as string.\n",
    "\n",
    "for example\n",
    "\n",
    "- 23.45% ( as a string)\n",
    "- 12,342 ( also a string)\n",
    "\n",
    "Use the string **replace()** function in conjunction with **pandas.to_numeric()** to correctly import formatted numeric values."
   ]
  },
  {
   "cell_type": "code",
   "execution_count": 10,
   "metadata": {},
   "outputs": [
    {
     "name": "stdout",
     "output_type": "stream",
     "text": [
      "Price       object\n",
      "Open        object\n",
      "High        object\n",
      "Low         object\n",
      "Change %    object\n",
      "dtype: object\n"
     ]
    },
    {
     "data": {
      "text/html": [
       "<div>\n",
       "<style scoped>\n",
       "    .dataframe tbody tr th:only-of-type {\n",
       "        vertical-align: middle;\n",
       "    }\n",
       "\n",
       "    .dataframe tbody tr th {\n",
       "        vertical-align: top;\n",
       "    }\n",
       "\n",
       "    .dataframe thead th {\n",
       "        text-align: right;\n",
       "    }\n",
       "</style>\n",
       "<table border=\"1\" class=\"dataframe\">\n",
       "  <thead>\n",
       "    <tr style=\"text-align: right;\">\n",
       "      <th></th>\n",
       "      <th>Price</th>\n",
       "      <th>Open</th>\n",
       "      <th>High</th>\n",
       "      <th>Low</th>\n",
       "      <th>Change %</th>\n",
       "    </tr>\n",
       "    <tr>\n",
       "      <th>Date</th>\n",
       "      <th></th>\n",
       "      <th></th>\n",
       "      <th></th>\n",
       "      <th></th>\n",
       "      <th></th>\n",
       "    </tr>\n",
       "  </thead>\n",
       "  <tbody>\n",
       "    <tr>\n",
       "      <th>2017-12-29</th>\n",
       "      <td>2,673.61</td>\n",
       "      <td>2,689.15</td>\n",
       "      <td>2,692.12</td>\n",
       "      <td>2,673.61</td>\n",
       "      <td>-0.52%</td>\n",
       "    </tr>\n",
       "    <tr>\n",
       "      <th>2017-12-28</th>\n",
       "      <td>2,687.54</td>\n",
       "      <td>2,686.10</td>\n",
       "      <td>2,687.66</td>\n",
       "      <td>2,682.69</td>\n",
       "      <td>0.18%</td>\n",
       "    </tr>\n",
       "    <tr>\n",
       "      <th>2017-12-27</th>\n",
       "      <td>2,682.62</td>\n",
       "      <td>2,682.10</td>\n",
       "      <td>2,685.64</td>\n",
       "      <td>2,678.91</td>\n",
       "      <td>0.08%</td>\n",
       "    </tr>\n",
       "    <tr>\n",
       "      <th>2017-12-26</th>\n",
       "      <td>2,680.50</td>\n",
       "      <td>2,679.09</td>\n",
       "      <td>2,682.74</td>\n",
       "      <td>2,677.96</td>\n",
       "      <td>-0.11%</td>\n",
       "    </tr>\n",
       "    <tr>\n",
       "      <th>2017-12-22</th>\n",
       "      <td>2,683.34</td>\n",
       "      <td>2,684.22</td>\n",
       "      <td>2,685.35</td>\n",
       "      <td>2,678.13</td>\n",
       "      <td>-0.05%</td>\n",
       "    </tr>\n",
       "  </tbody>\n",
       "</table>\n",
       "</div>"
      ],
      "text/plain": [
       "               Price      Open      High       Low Change %\n",
       "Date                                                       \n",
       "2017-12-29  2,673.61  2,689.15  2,692.12  2,673.61   -0.52%\n",
       "2017-12-28  2,687.54  2,686.10  2,687.66  2,682.69    0.18%\n",
       "2017-12-27  2,682.62  2,682.10  2,685.64  2,678.91    0.08%\n",
       "2017-12-26  2,680.50  2,679.09  2,682.74  2,677.96   -0.11%\n",
       "2017-12-22  2,683.34  2,684.22  2,685.35  2,678.13   -0.05%"
      ]
     },
     "execution_count": 10,
     "metadata": {},
     "output_type": "execute_result"
    }
   ],
   "source": [
    "# Read data into a DataFrame\n",
    "df_SPX = pd.read_csv('https://s3.eu-west-1.amazonaws.com/neueda.conygre.com/pydata/SPX.csv',\n",
    "                     index_col='Date', parse_dates=True)\n",
    "\n",
    "# Use the dtypes attribute to check what types are in each column\n",
    "# the word 'object' is used to denote a string\n",
    "print(df_SPX.dtypes)\n",
    "\n",
    "df_SPX.head()"
   ]
  },
  {
   "cell_type": "code",
   "execution_count": null,
   "metadata": {
    "tags": [
     "student_to_fill"
    ]
   },
   "outputs": [],
   "source": [
    "# Convert the value in the 'Price' column from a String to a numeric (notice we also strip out the \",\")\n",
    "df_SPX['Price'] = pd.to_numeric(df_SPX['Price'].str.replace(',', ''))\n",
    "\n",
    "# Now check the dtypes and compare to the previous cell - price is now a \"float64\" i.e. a decimal number\n",
    "print(df_SPX.dtypes)\n",
    "\n",
    "\n",
    "df_SPX.head()"
   ]
  },
  {
   "cell_type": "markdown",
   "metadata": {},
   "source": [
    "# Exercise\n",
    "- Update the \"Change %\" column\n",
    "- Remove the '%' character and convert to numeric values\n",
    "- Print the dtypes for the updated DataFrame to verify your change\n",
    "- Display the first 5 rows of the updated DataFrame"
   ]
  },
  {
   "cell_type": "code",
   "execution_count": null,
   "metadata": {
    "tags": [
     "student_to_fill"
    ]
   },
   "outputs": [],
   "source": [
    "# Do the exercise here"
   ]
  },
  {
   "cell_type": "markdown",
   "metadata": {},
   "source": [
    "# Pandas Options, Customisation\n",
    "\n",
    "This sections shows for reference some ways to format strings and use pandas options\n",
    "\n",
    "4 ways to format strings\n",
    "- C Style formatting\n",
    "- “New Style” String Formatting\n",
    "- Formatted String Literals\n",
    "- Template Strings\n"
   ]
  },
  {
   "cell_type": "markdown",
   "metadata": {},
   "source": [
    "### C-Style String Formatting\n",
    "\n",
    "Based on C language `printf` function -  the %-operator\n",
    "\n",
    "- Single Substitution\n",
    "\n",
    "- Multiple Substitution: wrap the right-hand side in a tuple,\n"
   ]
  },
  {
   "cell_type": "code",
   "execution_count": null,
   "metadata": {},
   "outputs": [],
   "source": [
    "# Single Substitution\n",
    "fav_song = \"Hey Jude\"\n",
    "s = 'Favourite song is %s' % fav_song\n",
    "print(s)\n",
    "\n",
    "# Multiple Substitution:\n",
    "fname = \"Bob\"\n",
    "lname = \"Dylan\"\n",
    "s = 'Favourite singer is %s %s' % (fname, lname)\n",
    "print(s)\n"
   ]
  },
  {
   "cell_type": "markdown",
   "metadata": {},
   "source": [
    "### “New Style” String Formatting\n",
    "\n",
    "Introduced in Python 3, back ported to python 2.7 <BR>\n",
    "Replaces `%operator` with a `.format()` function and variable substitution\n"
   ]
  },
  {
   "cell_type": "code",
   "execution_count": null,
   "metadata": {},
   "outputs": [],
   "source": [
    "fav_song = \"Hey Jude\"\n",
    "s = 'Favourite song is {}'.format(fav_song)\n",
    "print(s)\n",
    "\n",
    "fname = \"Bob\"\n",
    "lname = \"Dylan\"\n",
    "s = 'Favourite singer is {} {}'.format(fname, lname)\n",
    "print(s)\n",
    "\n",
    "# Same as previous but using named parameters\n",
    "s = 'Favourite singer is {s1} {s2}'.format(s1=fname, s2=lname)\n",
    "print(s)\n"
   ]
  },
  {
   "cell_type": "markdown",
   "metadata": {},
   "source": [
    "### Formatted String Literals\n",
    "\n",
    "Added in python 3.6\n"
   ]
  },
  {
   "cell_type": "code",
   "execution_count": null,
   "metadata": {},
   "outputs": [],
   "source": [
    "# Use embedded Python expressions inside string constants\n",
    "fav_song = \"Hey Jude\"\n",
    "s = f'Favourite song is, {fav_song}!'\n",
    "print(s)\n",
    "\n",
    "# embed arbitrary Python expressions\n",
    "a = 5\n",
    "b = 10\n",
    "s = f'Five plus ten is {a + b} and not {2 * (a + b)}.'\n",
    "print(s)\n"
   ]
  },
  {
   "cell_type": "markdown",
   "metadata": {},
   "source": [
    "### Template Strings\n",
    "Simpler and less powerful mechanism"
   ]
  },
  {
   "cell_type": "code",
   "execution_count": null,
   "metadata": {},
   "outputs": [],
   "source": [
    "from string import Template\n",
    "\n",
    "t = Template('Favourite singer is $s1 $s2')\n",
    "\n",
    "s = t.substitute(s1=fname, s2=lname)\n",
    "print(s)\n"
   ]
  },
  {
   "cell_type": "markdown",
   "metadata": {},
   "source": [
    "## Display Options\n",
    "\n",
    "Pandas have some default factors which restrict the analysis of data. \n",
    "\n",
    "Therefore to have a stronghold over the library and to make the most out of its uses, it is important to know the various methods to change the default pandas values.\n",
    "\n",
    "Common default values-\n",
    "\n",
    "- `display.max_rows` and `display.max_columns` which shows the default number of rows and columns.\n",
    "- `display.max_colwidth` which gives us the maximum width of the column\n",
    "- `display.expand_frame_repr` which gives us DataFrames that is spread across numerous pages.\n",
    "- `display.precision` gives us the precision of the decimal numbers\n",
    "\n",
    "\n",
    "Full list of options https://pandas.pydata.org/pandas-docs/stable/user_guide/options.html#available-options"
   ]
  },
  {
   "cell_type": "markdown",
   "metadata": {},
   "source": [
    "### Pandas.get_option()\n",
    "- return particular detail about the default values in pandas.\n",
    "\n",
    "Using `display.max_rows` and `display.max_columns”`\n",
    "as parameters we get a maximum number of rows and columns that can display by default."
   ]
  },
  {
   "cell_type": "code",
   "execution_count": null,
   "metadata": {},
   "outputs": [],
   "source": [
    "opts = pd.get_option(\"display.max_rows\")\n",
    "print(opts)\n",
    "\n",
    "opts = pd.get_option(\"display.max_columns\")\n",
    "print(opts)"
   ]
  },
  {
   "cell_type": "markdown",
   "metadata": {},
   "source": [
    "### Pandas.set_option()\n",
    "- change a default value to something of our choice. \n",
    "\n",
    "e.g. change the “display.max_rows” from 60 to 90.\n",
    "\n"
   ]
  },
  {
   "cell_type": "code",
   "execution_count": null,
   "metadata": {},
   "outputs": [],
   "source": [
    "pd.set_option(\"display.max_rows\",90)\n",
    "opts = pd.get_option(\"display.max_rows\")\n",
    "print(opts)\n",
    "\n",
    "pd.set_option(\"display.max_columns\",10)\n",
    "opts= pd.get_option(\"display.max_columns\")\n",
    "print(opts)"
   ]
  },
  {
   "cell_type": "markdown",
   "metadata": {},
   "source": [
    "### Pandas.reset_option\n",
    "- get back the default values which may change previously."
   ]
  },
  {
   "cell_type": "code",
   "execution_count": null,
   "metadata": {},
   "outputs": [],
   "source": [
    "pd.reset_option(\"display.max_rows\")\n",
    "opts = pd.get_option(\"display.max_rows\")\n",
    "print(opts)\n",
    "\n",
    "pd.reset_option(\"display.max_columns\")\n",
    "opts = pd.get_option(\"display.max_columns\")\n",
    "print(opts)"
   ]
  },
  {
   "cell_type": "markdown",
   "metadata": {},
   "source": [
    "### Pandas.describe_option\n",
    "- describes the parameter. \n"
   ]
  },
  {
   "cell_type": "code",
   "execution_count": null,
   "metadata": {},
   "outputs": [],
   "source": [
    "pd.describe_option(\"display.max_rows\")"
   ]
  },
  {
   "cell_type": "markdown",
   "metadata": {},
   "source": [
    "### Pandas.option_context\n",
    "invoke a pandas option function which will be only active within the scope of the function.\n",
    "\n",
    "In the below example, display.max_rows is set to 30 only inside the .option-context scope. Outside the function scope, it returns back to being 60."
   ]
  },
  {
   "cell_type": "code",
   "execution_count": null,
   "metadata": {},
   "outputs": [],
   "source": [
    "with pd.option_context(\"display.max_rows\",30):\n",
    "      print(pd.get_option(\"display.max_rows\"))\n",
    "        \n",
    "print(pd.get_option(\"display.max_rows\"))"
   ]
  }
 ],
 "metadata": {
  "celltoolbar": "Tags",
  "kernelspec": {
   "display_name": "Python 3 (ipykernel)",
   "language": "python",
   "name": "python3"
  },
  "language_info": {
   "codemirror_mode": {
    "name": "ipython",
    "version": 3
   },
   "file_extension": ".py",
   "mimetype": "text/x-python",
   "name": "python",
   "nbconvert_exporter": "python",
   "pygments_lexer": "ipython3",
   "version": "3.8.12"
  }
 },
 "nbformat": 4,
 "nbformat_minor": 2
}

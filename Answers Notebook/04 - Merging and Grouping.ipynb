{
 "cells": [
  {
   "cell_type": "markdown",
   "metadata": {},
   "source": [
    "<img style=\"float: right;\" width=\"120\" src=\"https://s3.eu-west-1.amazonaws.com/neueda.conygre.com/pydata/images/neueda-logo.jpeg\">\n",
    "<br><br><br>\n"
   ]
  },
  {
   "cell_type": "markdown",
   "metadata": {},
   "source": [
    "# Synopsis\n",
    "\n",
    "This notebook will explain the following topics and concepts:\n",
    "\n",
    "**Ranking Data** \n",
    "- Ascending and Descending\n",
    "\n",
    "**Concatenation**\n",
    "- Rows and Columns\n",
    "\n",
    "**Merging Data**\n",
    "- left\n",
    "- right\n",
    "- inner\n",
    "- outer\n",
    "\n",
    "**Joining Data**\n",
    "- left\n",
    "- right\n",
    "- inner\n",
    "- outer\n",
    "\n",
    "**Grouping Data**\n",
    "- by time\n",
    "- by columns"
   ]
  },
  {
   "cell_type": "markdown",
   "metadata": {},
   "source": [
    "# Importing libraries & Load Data\n",
    "\n",
    "We'll use the same csv files as we used in chapter 3."
   ]
  },
  {
   "cell_type": "code",
   "execution_count": 2,
   "metadata": {
    "tags": [
     "student_to_fill"
    ]
   },
   "outputs": [],
   "source": [
    "# import pandas, numpy, matplotlib.pyplot\n",
    "import pandas as pd\n",
    "import numpy as np\n",
    "import matplotlib.pyplot as plt\n",
    "\n",
    "# use matplotlib inline jupyter magic\n",
    "%matplotlib inline\n",
    "\n",
    "\n",
    "# format for floats\n",
    "pd.options.display.float_format = '{:,.2f}'.format"
   ]
  },
  {
   "cell_type": "markdown",
   "metadata": {},
   "source": [
    "Import a number of DataFrames from different sheets in the same excel workbook"
   ]
  },
  {
   "cell_type": "code",
   "execution_count": 3,
   "metadata": {},
   "outputs": [],
   "source": [
    "df_GOOGL = pd.read_excel('https://s3.eu-west-1.amazonaws.com/neueda.conygre.com/pydata/market_data.xls', sheet_name='GOOGL', index_col='Date', parse_dates=True)\n",
    "df_IBM = pd.read_excel('https://s3.eu-west-1.amazonaws.com/neueda.conygre.com/pydata/market_data.xls', sheet_name='IBM', index_col='Date', parse_dates=True)\n",
    "df_MSFT = pd.read_excel('https://s3.eu-west-1.amazonaws.com/neueda.conygre.com/pydata/market_data.xls', sheet_name='MSFT', index_col='Date', parse_dates=True)"
   ]
  },
  {
   "cell_type": "markdown",
   "metadata": {},
   "source": [
    "# Concatenation\n",
    "\n",
    "- Glues together DataFrames, without much intelligence.\n",
    "- Dimensions should match along the axis you are concatenating on. \n",
    "- Use **pd.concat** and pass in a list of DataFrames to concatenate together"
   ]
  },
  {
   "cell_type": "markdown",
   "metadata": {},
   "source": [
    "## Create a few simple DataFrames "
   ]
  },
  {
   "cell_type": "code",
   "execution_count": 4,
   "metadata": {},
   "outputs": [],
   "source": [
    "# To demonstrate concatenation and merging, we'll first select some small subsets of the original DataFrames\n",
    "# This is just to give us Data that more suited to explaining things!!\n",
    "\n",
    "date_range = pd.date_range(start='2017', freq='BQ', periods=4)\n",
    "cols  = ['Open', 'Close']\n",
    "\n",
    "df1 = df_IBM.reindex(date_range)[cols]\n",
    "df2 = df_GOOGL.reindex(date_range)[cols]\n",
    "df3 = df_MSFT.reindex(date_range)[cols]"
   ]
  },
  {
   "cell_type": "markdown",
   "metadata": {},
   "source": [
    "## Concatenate\n",
    "\n",
    "The default is to concatenate the rows"
   ]
  },
  {
   "cell_type": "code",
   "execution_count": 5,
   "metadata": {
    "tags": [
     "student_to_fill"
    ]
   },
   "outputs": [
    {
     "data": {
      "text/html": [
       "<div>\n",
       "<style scoped>\n",
       "    .dataframe tbody tr th:only-of-type {\n",
       "        vertical-align: middle;\n",
       "    }\n",
       "\n",
       "    .dataframe tbody tr th {\n",
       "        vertical-align: top;\n",
       "    }\n",
       "\n",
       "    .dataframe thead th {\n",
       "        text-align: right;\n",
       "    }\n",
       "</style>\n",
       "<table border=\"1\" class=\"dataframe\">\n",
       "  <thead>\n",
       "    <tr style=\"text-align: right;\">\n",
       "      <th></th>\n",
       "      <th>Open</th>\n",
       "      <th>Close</th>\n",
       "    </tr>\n",
       "  </thead>\n",
       "  <tbody>\n",
       "    <tr>\n",
       "      <th>2017-03-31</th>\n",
       "      <td>173.98</td>\n",
       "      <td>174.14</td>\n",
       "    </tr>\n",
       "    <tr>\n",
       "      <th>2017-06-30</th>\n",
       "      <td>154.28</td>\n",
       "      <td>153.83</td>\n",
       "    </tr>\n",
       "    <tr>\n",
       "      <th>2017-09-29</th>\n",
       "      <td>145.45</td>\n",
       "      <td>145.08</td>\n",
       "    </tr>\n",
       "    <tr>\n",
       "      <th>2017-12-29</th>\n",
       "      <td>154.17</td>\n",
       "      <td>153.42</td>\n",
       "    </tr>\n",
       "    <tr>\n",
       "      <th>2017-03-31</th>\n",
       "      <td>846.83</td>\n",
       "      <td>847.80</td>\n",
       "    </tr>\n",
       "    <tr>\n",
       "      <th>2017-06-30</th>\n",
       "      <td>943.99</td>\n",
       "      <td>929.68</td>\n",
       "    </tr>\n",
       "    <tr>\n",
       "      <th>2017-09-29</th>\n",
       "      <td>966.00</td>\n",
       "      <td>973.72</td>\n",
       "    </tr>\n",
       "    <tr>\n",
       "      <th>2017-12-29</th>\n",
       "      <td>1,055.49</td>\n",
       "      <td>1,053.40</td>\n",
       "    </tr>\n",
       "    <tr>\n",
       "      <th>2017-03-31</th>\n",
       "      <td>65.65</td>\n",
       "      <td>65.86</td>\n",
       "    </tr>\n",
       "    <tr>\n",
       "      <th>2017-06-30</th>\n",
       "      <td>68.78</td>\n",
       "      <td>68.93</td>\n",
       "    </tr>\n",
       "    <tr>\n",
       "      <th>2017-09-29</th>\n",
       "      <td>73.94</td>\n",
       "      <td>74.49</td>\n",
       "    </tr>\n",
       "    <tr>\n",
       "      <th>2017-12-29</th>\n",
       "      <td>85.63</td>\n",
       "      <td>85.54</td>\n",
       "    </tr>\n",
       "  </tbody>\n",
       "</table>\n",
       "</div>"
      ],
      "text/plain": [
       "               Open    Close\n",
       "2017-03-31   173.98   174.14\n",
       "2017-06-30   154.28   153.83\n",
       "2017-09-29   145.45   145.08\n",
       "2017-12-29   154.17   153.42\n",
       "2017-03-31   846.83   847.80\n",
       "2017-06-30   943.99   929.68\n",
       "2017-09-29   966.00   973.72\n",
       "2017-12-29 1,055.49 1,053.40\n",
       "2017-03-31    65.65    65.86\n",
       "2017-06-30    68.78    68.93\n",
       "2017-09-29    73.94    74.49\n",
       "2017-12-29    85.63    85.54"
      ]
     },
     "execution_count": 5,
     "metadata": {},
     "output_type": "execute_result"
    }
   ],
   "source": [
    "# concatenate all three of df1, df2 and df3 along the default axis\n",
    "df_all = pd.concat([df1, df2, df3])\n",
    "df_all"
   ]
  },
  {
   "cell_type": "markdown",
   "metadata": {},
   "source": [
    "## Concatenate the columns\n",
    "Pass the `axis = 1` parameter to pd.concat"
   ]
  },
  {
   "cell_type": "code",
   "execution_count": 11,
   "metadata": {
    "tags": [
     "student_to_fill"
    ]
   },
   "outputs": [
    {
     "data": {
      "text/html": [
       "<div>\n",
       "<style scoped>\n",
       "    .dataframe tbody tr th:only-of-type {\n",
       "        vertical-align: middle;\n",
       "    }\n",
       "\n",
       "    .dataframe tbody tr th {\n",
       "        vertical-align: top;\n",
       "    }\n",
       "\n",
       "    .dataframe thead th {\n",
       "        text-align: right;\n",
       "    }\n",
       "</style>\n",
       "<table border=\"1\" class=\"dataframe\">\n",
       "  <thead>\n",
       "    <tr style=\"text-align: right;\">\n",
       "      <th></th>\n",
       "      <th>Open</th>\n",
       "      <th>Close</th>\n",
       "      <th>Open</th>\n",
       "      <th>Close</th>\n",
       "      <th>Open</th>\n",
       "      <th>Close</th>\n",
       "    </tr>\n",
       "  </thead>\n",
       "  <tbody>\n",
       "    <tr>\n",
       "      <th>2017-03-31</th>\n",
       "      <td>173.98</td>\n",
       "      <td>174.14</td>\n",
       "      <td>846.83</td>\n",
       "      <td>847.80</td>\n",
       "      <td>65.65</td>\n",
       "      <td>65.86</td>\n",
       "    </tr>\n",
       "    <tr>\n",
       "      <th>2017-06-30</th>\n",
       "      <td>154.28</td>\n",
       "      <td>153.83</td>\n",
       "      <td>943.99</td>\n",
       "      <td>929.68</td>\n",
       "      <td>68.78</td>\n",
       "      <td>68.93</td>\n",
       "    </tr>\n",
       "    <tr>\n",
       "      <th>2017-09-29</th>\n",
       "      <td>145.45</td>\n",
       "      <td>145.08</td>\n",
       "      <td>966.00</td>\n",
       "      <td>973.72</td>\n",
       "      <td>73.94</td>\n",
       "      <td>74.49</td>\n",
       "    </tr>\n",
       "    <tr>\n",
       "      <th>2017-12-29</th>\n",
       "      <td>154.17</td>\n",
       "      <td>153.42</td>\n",
       "      <td>1,055.49</td>\n",
       "      <td>1,053.40</td>\n",
       "      <td>85.63</td>\n",
       "      <td>85.54</td>\n",
       "    </tr>\n",
       "  </tbody>\n",
       "</table>\n",
       "</div>"
      ],
      "text/plain": [
       "             Open  Close     Open    Close  Open  Close\n",
       "2017-03-31 173.98 174.14   846.83   847.80 65.65  65.86\n",
       "2017-06-30 154.28 153.83   943.99   929.68 68.78  68.93\n",
       "2017-09-29 145.45 145.08   966.00   973.72 73.94  74.49\n",
       "2017-12-29 154.17 153.42 1,055.49 1,053.40 85.63  85.54"
      ]
     },
     "execution_count": 11,
     "metadata": {},
     "output_type": "execute_result"
    }
   ],
   "source": [
    "df_all = pd.concat([df1, df2, df3], axis=1)\n",
    "df_all\n"
   ]
  },
  {
   "cell_type": "markdown",
   "metadata": {},
   "source": [
    "# Merging\n",
    "\n",
    "Pandas has two important functions for joining DataFrames together which intelligently try to align values from selected columns of each DataFrame. These functions are called **merge** and **join**. These functions use a similar logic to joins in SQL.\n",
    "\n",
    "First we will look at merge.\n",
    "\n",
    "**There are 4 Different types of merge**\n",
    "- **Inner Merge** – The default Pandas behaviour, only keep rows where the merge “on” value exists in both the left and right DataFrames.\n",
    "- **Left Merge** – (aka left merge or left join) Keep every row in the left DataFrame. Where there are missing values of the “on” variable in the right DataFrame, add empty / NaN values in the result.\n",
    "- **Right Merge** – (aka right merge or right join) Keep every row in the right DataFrame. Where there are missing values of the “on” variable in the left column, add empty / NaN values in the result.\n",
    "- **Outer Merge** – A full outer join returns all the rows from the left DataFrame, all the rows from the right DataFrame, and matches up rows where possible, with NaNs elsewhere."
   ]
  },
  {
   "cell_type": "markdown",
   "metadata": {},
   "source": [
    "## Create some sample DataFrames\n",
    "\n",
    "Just a few days worth of Data from Google and IBM\n",
    "\n",
    "Note the difference in date ranges"
   ]
  },
  {
   "cell_type": "code",
   "execution_count": 5,
   "metadata": {},
   "outputs": [
    {
     "name": "stdout",
     "output_type": "stream",
     "text": [
      "== IBM ==\n"
     ]
    },
    {
     "data": {
      "text/html": [
       "<div>\n",
       "<style scoped>\n",
       "    .dataframe tbody tr th:only-of-type {\n",
       "        vertical-align: middle;\n",
       "    }\n",
       "\n",
       "    .dataframe tbody tr th {\n",
       "        vertical-align: top;\n",
       "    }\n",
       "\n",
       "    .dataframe thead th {\n",
       "        text-align: right;\n",
       "    }\n",
       "</style>\n",
       "<table border=\"1\" class=\"dataframe\">\n",
       "  <thead>\n",
       "    <tr style=\"text-align: right;\">\n",
       "      <th></th>\n",
       "      <th>High</th>\n",
       "      <th>Low</th>\n",
       "    </tr>\n",
       "    <tr>\n",
       "      <th>Date</th>\n",
       "      <th></th>\n",
       "      <th></th>\n",
       "    </tr>\n",
       "  </thead>\n",
       "  <tbody>\n",
       "    <tr>\n",
       "      <th>2017-01-03</th>\n",
       "      <td>167.87</td>\n",
       "      <td>166.01</td>\n",
       "    </tr>\n",
       "    <tr>\n",
       "      <th>2017-01-04</th>\n",
       "      <td>169.87</td>\n",
       "      <td>167.36</td>\n",
       "    </tr>\n",
       "    <tr>\n",
       "      <th>2017-01-05</th>\n",
       "      <td>169.39</td>\n",
       "      <td>167.26</td>\n",
       "    </tr>\n",
       "    <tr>\n",
       "      <th>2017-01-06</th>\n",
       "      <td>169.92</td>\n",
       "      <td>167.52</td>\n",
       "    </tr>\n",
       "  </tbody>\n",
       "</table>\n",
       "</div>"
      ],
      "text/plain": [
       "             High    Low\n",
       "Date                    \n",
       "2017-01-03 167.87 166.01\n",
       "2017-01-04 169.87 167.36\n",
       "2017-01-05 169.39 167.26\n",
       "2017-01-06 169.92 167.52"
      ]
     },
     "metadata": {},
     "output_type": "display_data"
    },
    {
     "name": "stdout",
     "output_type": "stream",
     "text": [
      "== GOOGLE ==\n"
     ]
    },
    {
     "data": {
      "text/html": [
       "<div>\n",
       "<style scoped>\n",
       "    .dataframe tbody tr th:only-of-type {\n",
       "        vertical-align: middle;\n",
       "    }\n",
       "\n",
       "    .dataframe tbody tr th {\n",
       "        vertical-align: top;\n",
       "    }\n",
       "\n",
       "    .dataframe thead th {\n",
       "        text-align: right;\n",
       "    }\n",
       "</style>\n",
       "<table border=\"1\" class=\"dataframe\">\n",
       "  <thead>\n",
       "    <tr style=\"text-align: right;\">\n",
       "      <th></th>\n",
       "      <th>High</th>\n",
       "      <th>Low</th>\n",
       "    </tr>\n",
       "    <tr>\n",
       "      <th>Date</th>\n",
       "      <th></th>\n",
       "      <th></th>\n",
       "    </tr>\n",
       "  </thead>\n",
       "  <tbody>\n",
       "    <tr>\n",
       "      <th>2017-01-05</th>\n",
       "      <td>813.74</td>\n",
       "      <td>805.92</td>\n",
       "    </tr>\n",
       "    <tr>\n",
       "      <th>2017-01-06</th>\n",
       "      <td>828.96</td>\n",
       "      <td>811.50</td>\n",
       "    </tr>\n",
       "    <tr>\n",
       "      <th>2017-01-09</th>\n",
       "      <td>830.43</td>\n",
       "      <td>821.62</td>\n",
       "    </tr>\n",
       "    <tr>\n",
       "      <th>2017-01-10</th>\n",
       "      <td>829.41</td>\n",
       "      <td>823.14</td>\n",
       "    </tr>\n",
       "  </tbody>\n",
       "</table>\n",
       "</div>"
      ],
      "text/plain": [
       "             High    Low\n",
       "Date                    \n",
       "2017-01-05 813.74 805.92\n",
       "2017-01-06 828.96 811.50\n",
       "2017-01-09 830.43 821.62\n",
       "2017-01-10 829.41 823.14"
      ]
     },
     "metadata": {},
     "output_type": "display_data"
    }
   ],
   "source": [
    "cols = ['High', 'Low']\n",
    "\n",
    "df1 = df_IBM[cols]['2017-Jan-01':'2017-Jan-06'].sort_index()\n",
    "df2 = df_GOOGL[cols]['2017-Jan-05':'2017-Jan-10'].sort_index()\n",
    "\n",
    "# show both dataframes\n",
    "print(\"== IBM ==\")\n",
    "display(df1)\n",
    "print(\"== GOOGLE ==\")\n",
    "display(df2)"
   ]
  },
  {
   "cell_type": "markdown",
   "metadata": {},
   "source": [
    "## Inner Merge\n",
    "\n",
    "Only keep values for Dates found in both left (df1) and right (df2)"
   ]
  },
  {
   "cell_type": "code",
   "execution_count": null,
   "metadata": {
    "tags": [
     "student_to_fill"
    ]
   },
   "outputs": [],
   "source": [
    "# This version of merge works in latest Pandas\n",
    "pd.merge(df1, df2, how='inner', on='Date')\n",
    "\n",
    "# This version of merge works in older Pandas\n",
    "pd.merge(df1, df2, how='inner', left_index=True, right_index=True)\n"
   ]
  },
  {
   "cell_type": "markdown",
   "metadata": {},
   "source": [
    "## Left Merge\n",
    "\n",
    "- Keep everything in the left DataFrame.\n",
    "- Where nothing exists in the right DataFrame, fill with NaN (\"Not a Number\" - these are empty values).\n",
    "- Use the suffixes parameter to override the x_ and y_ defaults"
   ]
  },
  {
   "cell_type": "code",
   "execution_count": null,
   "metadata": {
    "tags": [
     "student_to_fill"
    ]
   },
   "outputs": [],
   "source": [
    "srcs = ['_IBM','_GOOGL']\n",
    "\n",
    "pd.merge(df1, df2, how='left', on='Date', suffixes=srcs)\n",
    "\n",
    "pd.merge(df1, df2, how='left', left_index=True, right_index=True,  suffixes=srcs)"
   ]
  },
  {
   "cell_type": "markdown",
   "metadata": {},
   "source": [
    "## Right Merge\n",
    "\n",
    "- Keep everything in the right DataFrame\n",
    "- Where nothing exists in the left DataFrame, fill with NaN"
   ]
  },
  {
   "cell_type": "code",
   "execution_count": null,
   "metadata": {
    "scrolled": true,
    "tags": [
     "student_to_fill"
    ]
   },
   "outputs": [],
   "source": [
    "pd.merge(df1, df2, how='right', on='Date', suffixes=srcs)\n",
    "\n",
    "pd.merge(df1, df2, how='right', left_index=True, right_index=True, suffixes=srcs)"
   ]
  },
  {
   "cell_type": "markdown",
   "metadata": {},
   "source": [
    "## Outer Merge\n",
    "\n",
    "Keep everything in both left and right DataFrames, fill with NaN where no data present"
   ]
  },
  {
   "cell_type": "code",
   "execution_count": null,
   "metadata": {
    "scrolled": true,
    "tags": [
     "student_to_fill"
    ]
   },
   "outputs": [],
   "source": [
    "pd.merge(df1, df2, how='outer', on='Date', suffixes=srcs)\n",
    "\n",
    "pd.merge(df1, df2, how='outer', on='Date', left_index=True, right_index=True, suffixes=srcs)"
   ]
  },
  {
   "cell_type": "markdown",
   "metadata": {},
   "source": [
    "# Joining\n",
    "\n",
    "- The second pandas function for intelligently combining DataFrames is called **join**.\n",
    "- Join is **very** similar to merge.\n",
    "- As with merge, the **how** parameter takes inner, outer, left or right.\n",
    "- As with merge, the **on** parameter is the name of a column to join on.\n",
    "- However there is one major difference:\n",
    "  - When using join the \"on\" **must** be the index in at least one of the DataFrames.\n",
    "  - Merge will allow the \"on\" to be a regular column in **both** DataFrames.\n",
    "\n",
    "The syntax for calling the two functions is also slightly different:\n",
    "- **join**  : df1.join(df2, how=\"inner\", on=\"Date\")\n",
    "- **merge** : pd.merge(df1, df2, how=\"inner\", on=\"Date\")\n",
    "\n"
   ]
  },
  {
   "cell_type": "code",
   "execution_count": 7,
   "metadata": {
    "tags": [
     "student_to_fill"
    ]
   },
   "outputs": [
    {
     "data": {
      "text/html": [
       "<div>\n",
       "<style scoped>\n",
       "    .dataframe tbody tr th:only-of-type {\n",
       "        vertical-align: middle;\n",
       "    }\n",
       "\n",
       "    .dataframe tbody tr th {\n",
       "        vertical-align: top;\n",
       "    }\n",
       "\n",
       "    .dataframe thead th {\n",
       "        text-align: right;\n",
       "    }\n",
       "</style>\n",
       "<table border=\"1\" class=\"dataframe\">\n",
       "  <thead>\n",
       "    <tr style=\"text-align: right;\">\n",
       "      <th></th>\n",
       "      <th>Open_df1</th>\n",
       "      <th>Close_df1</th>\n",
       "      <th>Open</th>\n",
       "      <th>Close</th>\n",
       "    </tr>\n",
       "  </thead>\n",
       "  <tbody>\n",
       "    <tr>\n",
       "      <th>2017-03-31</th>\n",
       "      <td>173.98</td>\n",
       "      <td>174.14</td>\n",
       "      <td>846.83</td>\n",
       "      <td>847.80</td>\n",
       "    </tr>\n",
       "    <tr>\n",
       "      <th>2017-06-30</th>\n",
       "      <td>154.28</td>\n",
       "      <td>153.83</td>\n",
       "      <td>943.99</td>\n",
       "      <td>929.68</td>\n",
       "    </tr>\n",
       "    <tr>\n",
       "      <th>2017-09-29</th>\n",
       "      <td>145.45</td>\n",
       "      <td>145.08</td>\n",
       "      <td>966.00</td>\n",
       "      <td>973.72</td>\n",
       "    </tr>\n",
       "    <tr>\n",
       "      <th>2017-12-29</th>\n",
       "      <td>154.17</td>\n",
       "      <td>153.42</td>\n",
       "      <td>1,055.49</td>\n",
       "      <td>1,053.40</td>\n",
       "    </tr>\n",
       "  </tbody>\n",
       "</table>\n",
       "</div>"
      ],
      "text/plain": [
       "            Open_df1  Close_df1     Open    Close\n",
       "2017-03-31    173.98     174.14   846.83   847.80\n",
       "2017-06-30    154.28     153.83   943.99   929.68\n",
       "2017-09-29    145.45     145.08   966.00   973.72\n",
       "2017-12-29    154.17     153.42 1,055.49 1,053.40"
      ]
     },
     "execution_count": 7,
     "metadata": {},
     "output_type": "execute_result"
    }
   ],
   "source": [
    "# If we don't specify an \"on\" then we will join \"on\" the index of both DataFrames\n",
    "df1.join(df2, lsuffix='_df1')\n"
   ]
  },
  {
   "cell_type": "code",
   "execution_count": 8,
   "metadata": {
    "tags": [
     "student_to_fill"
    ]
   },
   "outputs": [
    {
     "data": {
      "text/html": [
       "<div>\n",
       "<style scoped>\n",
       "    .dataframe tbody tr th:only-of-type {\n",
       "        vertical-align: middle;\n",
       "    }\n",
       "\n",
       "    .dataframe tbody tr th {\n",
       "        vertical-align: top;\n",
       "    }\n",
       "\n",
       "    .dataframe thead th {\n",
       "        text-align: right;\n",
       "    }\n",
       "</style>\n",
       "<table border=\"1\" class=\"dataframe\">\n",
       "  <thead>\n",
       "    <tr style=\"text-align: right;\">\n",
       "      <th></th>\n",
       "      <th>Open_df1</th>\n",
       "      <th>Close_df1</th>\n",
       "      <th>Open</th>\n",
       "      <th>Close</th>\n",
       "    </tr>\n",
       "  </thead>\n",
       "  <tbody>\n",
       "    <tr>\n",
       "      <th>2017-03-31</th>\n",
       "      <td>173.98</td>\n",
       "      <td>174.14</td>\n",
       "      <td>846.83</td>\n",
       "      <td>847.80</td>\n",
       "    </tr>\n",
       "    <tr>\n",
       "      <th>2017-06-30</th>\n",
       "      <td>154.28</td>\n",
       "      <td>153.83</td>\n",
       "      <td>943.99</td>\n",
       "      <td>929.68</td>\n",
       "    </tr>\n",
       "    <tr>\n",
       "      <th>2017-09-29</th>\n",
       "      <td>145.45</td>\n",
       "      <td>145.08</td>\n",
       "      <td>966.00</td>\n",
       "      <td>973.72</td>\n",
       "    </tr>\n",
       "    <tr>\n",
       "      <th>2017-12-29</th>\n",
       "      <td>154.17</td>\n",
       "      <td>153.42</td>\n",
       "      <td>1,055.49</td>\n",
       "      <td>1,053.40</td>\n",
       "    </tr>\n",
       "  </tbody>\n",
       "</table>\n",
       "</div>"
      ],
      "text/plain": [
       "            Open_df1  Close_df1     Open    Close\n",
       "2017-03-31    173.98     174.14   846.83   847.80\n",
       "2017-06-30    154.28     153.83   943.99   929.68\n",
       "2017-09-29    145.45     145.08   966.00   973.72\n",
       "2017-12-29    154.17     153.42 1,055.49 1,053.40"
      ]
     },
     "execution_count": 8,
     "metadata": {},
     "output_type": "execute_result"
    }
   ],
   "source": [
    "# right join\n",
    "df1.join(df2, how='right', lsuffix='_df1')\n"
   ]
  },
  {
   "cell_type": "code",
   "execution_count": 9,
   "metadata": {
    "tags": [
     "student_to_fill"
    ]
   },
   "outputs": [
    {
     "data": {
      "text/html": [
       "<div>\n",
       "<style scoped>\n",
       "    .dataframe tbody tr th:only-of-type {\n",
       "        vertical-align: middle;\n",
       "    }\n",
       "\n",
       "    .dataframe tbody tr th {\n",
       "        vertical-align: top;\n",
       "    }\n",
       "\n",
       "    .dataframe thead th {\n",
       "        text-align: right;\n",
       "    }\n",
       "</style>\n",
       "<table border=\"1\" class=\"dataframe\">\n",
       "  <thead>\n",
       "    <tr style=\"text-align: right;\">\n",
       "      <th></th>\n",
       "      <th>Open_df1</th>\n",
       "      <th>Close_df1</th>\n",
       "      <th>Open</th>\n",
       "      <th>Close</th>\n",
       "    </tr>\n",
       "  </thead>\n",
       "  <tbody>\n",
       "    <tr>\n",
       "      <th>2017-03-31</th>\n",
       "      <td>173.98</td>\n",
       "      <td>174.14</td>\n",
       "      <td>846.83</td>\n",
       "      <td>847.80</td>\n",
       "    </tr>\n",
       "    <tr>\n",
       "      <th>2017-06-30</th>\n",
       "      <td>154.28</td>\n",
       "      <td>153.83</td>\n",
       "      <td>943.99</td>\n",
       "      <td>929.68</td>\n",
       "    </tr>\n",
       "    <tr>\n",
       "      <th>2017-09-29</th>\n",
       "      <td>145.45</td>\n",
       "      <td>145.08</td>\n",
       "      <td>966.00</td>\n",
       "      <td>973.72</td>\n",
       "    </tr>\n",
       "    <tr>\n",
       "      <th>2017-12-29</th>\n",
       "      <td>154.17</td>\n",
       "      <td>153.42</td>\n",
       "      <td>1,055.49</td>\n",
       "      <td>1,053.40</td>\n",
       "    </tr>\n",
       "  </tbody>\n",
       "</table>\n",
       "</div>"
      ],
      "text/plain": [
       "            Open_df1  Close_df1     Open    Close\n",
       "2017-03-31    173.98     174.14   846.83   847.80\n",
       "2017-06-30    154.28     153.83   943.99   929.68\n",
       "2017-09-29    145.45     145.08   966.00   973.72\n",
       "2017-12-29    154.17     153.42 1,055.49 1,053.40"
      ]
     },
     "execution_count": 9,
     "metadata": {},
     "output_type": "execute_result"
    }
   ],
   "source": [
    "# inner join\n",
    "df1.join(df2, how='inner', lsuffix='_df1')\n"
   ]
  },
  {
   "cell_type": "code",
   "execution_count": 10,
   "metadata": {
    "tags": [
     "student_to_fill"
    ]
   },
   "outputs": [
    {
     "data": {
      "text/html": [
       "<div>\n",
       "<style scoped>\n",
       "    .dataframe tbody tr th:only-of-type {\n",
       "        vertical-align: middle;\n",
       "    }\n",
       "\n",
       "    .dataframe tbody tr th {\n",
       "        vertical-align: top;\n",
       "    }\n",
       "\n",
       "    .dataframe thead th {\n",
       "        text-align: right;\n",
       "    }\n",
       "</style>\n",
       "<table border=\"1\" class=\"dataframe\">\n",
       "  <thead>\n",
       "    <tr style=\"text-align: right;\">\n",
       "      <th></th>\n",
       "      <th>Open_df1</th>\n",
       "      <th>Close_df1</th>\n",
       "      <th>Open</th>\n",
       "      <th>Close</th>\n",
       "    </tr>\n",
       "  </thead>\n",
       "  <tbody>\n",
       "    <tr>\n",
       "      <th>2017-03-31</th>\n",
       "      <td>173.98</td>\n",
       "      <td>174.14</td>\n",
       "      <td>846.83</td>\n",
       "      <td>847.80</td>\n",
       "    </tr>\n",
       "    <tr>\n",
       "      <th>2017-06-30</th>\n",
       "      <td>154.28</td>\n",
       "      <td>153.83</td>\n",
       "      <td>943.99</td>\n",
       "      <td>929.68</td>\n",
       "    </tr>\n",
       "    <tr>\n",
       "      <th>2017-09-29</th>\n",
       "      <td>145.45</td>\n",
       "      <td>145.08</td>\n",
       "      <td>966.00</td>\n",
       "      <td>973.72</td>\n",
       "    </tr>\n",
       "    <tr>\n",
       "      <th>2017-12-29</th>\n",
       "      <td>154.17</td>\n",
       "      <td>153.42</td>\n",
       "      <td>1,055.49</td>\n",
       "      <td>1,053.40</td>\n",
       "    </tr>\n",
       "  </tbody>\n",
       "</table>\n",
       "</div>"
      ],
      "text/plain": [
       "            Open_df1  Close_df1     Open    Close\n",
       "2017-03-31    173.98     174.14   846.83   847.80\n",
       "2017-06-30    154.28     153.83   943.99   929.68\n",
       "2017-09-29    145.45     145.08   966.00   973.72\n",
       "2017-12-29    154.17     153.42 1,055.49 1,053.40"
      ]
     },
     "execution_count": 10,
     "metadata": {},
     "output_type": "execute_result"
    }
   ],
   "source": [
    "# outer join\n",
    "df1.join(df2, how='outer', lsuffix='_df1')\n"
   ]
  },
  {
   "cell_type": "markdown",
   "metadata": {},
   "source": [
    "# Grouping Data\n",
    "\n",
    "Pandas provides functions that allow us to group rows of data together and call aggregate functions on them as a unit e.g. mean, max, min, std, etc.\n",
    "\n",
    "To create a group we call the **groupby** method on a DataFrame.\n",
    "\n",
    "e.g. Create groups where the 'Industry' column is the same:\n",
    "    - df1.groupby('Industry')"
   ]
  },
  {
   "cell_type": "markdown",
   "metadata": {},
   "source": [
    "## Group by Columns\n",
    "\n",
    "Use the **by** parameter and supply a column name"
   ]
  },
  {
   "cell_type": "code",
   "execution_count": 12,
   "metadata": {},
   "outputs": [],
   "source": [
    "df = pd.read_excel(io='https://s3.eu-west-1.amazonaws.com/neueda.conygre.com/pydata/sample_data.xls',\n",
    "                   sheet_name='Groups', index_col='Date', parse_dates=True)"
   ]
  },
  {
   "cell_type": "code",
   "execution_count": 13,
   "metadata": {
    "tags": [
     "student_to_fill"
    ]
   },
   "outputs": [
    {
     "data": {
      "text/html": [
       "<div>\n",
       "<style scoped>\n",
       "    .dataframe tbody tr th:only-of-type {\n",
       "        vertical-align: middle;\n",
       "    }\n",
       "\n",
       "    .dataframe tbody tr th {\n",
       "        vertical-align: top;\n",
       "    }\n",
       "\n",
       "    .dataframe thead tr th {\n",
       "        text-align: left;\n",
       "    }\n",
       "\n",
       "    .dataframe thead tr:last-of-type th {\n",
       "        text-align: right;\n",
       "    }\n",
       "</style>\n",
       "<table border=\"1\" class=\"dataframe\">\n",
       "  <thead>\n",
       "    <tr>\n",
       "      <th></th>\n",
       "      <th colspan=\"2\" halign=\"left\">High</th>\n",
       "      <th colspan=\"2\" halign=\"left\">Low</th>\n",
       "    </tr>\n",
       "    <tr>\n",
       "      <th></th>\n",
       "      <th>median</th>\n",
       "      <th>std</th>\n",
       "      <th>median</th>\n",
       "      <th>std</th>\n",
       "    </tr>\n",
       "    <tr>\n",
       "      <th>Rep</th>\n",
       "      <th></th>\n",
       "      <th></th>\n",
       "      <th></th>\n",
       "      <th></th>\n",
       "    </tr>\n",
       "  </thead>\n",
       "  <tbody>\n",
       "    <tr>\n",
       "      <th>George</th>\n",
       "      <td>85.10</td>\n",
       "      <td>158.88</td>\n",
       "      <td>61.96</td>\n",
       "      <td>89.81</td>\n",
       "    </tr>\n",
       "    <tr>\n",
       "      <th>John</th>\n",
       "      <td>81.29</td>\n",
       "      <td>213.04</td>\n",
       "      <td>55.50</td>\n",
       "      <td>154.95</td>\n",
       "    </tr>\n",
       "    <tr>\n",
       "      <th>Paul</th>\n",
       "      <td>90.88</td>\n",
       "      <td>101.06</td>\n",
       "      <td>65.15</td>\n",
       "      <td>62.97</td>\n",
       "    </tr>\n",
       "    <tr>\n",
       "      <th>Ringo</th>\n",
       "      <td>87.32</td>\n",
       "      <td>121.71</td>\n",
       "      <td>61.09</td>\n",
       "      <td>81.32</td>\n",
       "    </tr>\n",
       "  </tbody>\n",
       "</table>\n",
       "</div>"
      ],
      "text/plain": [
       "         High           Low       \n",
       "       median    std median    std\n",
       "Rep                               \n",
       "George  85.10 158.88  61.96  89.81\n",
       "John    81.29 213.04  55.50 154.95\n",
       "Paul    90.88 101.06  65.15  62.97\n",
       "Ringo   87.32 121.71  61.09  81.32"
      ]
     },
     "execution_count": 13,
     "metadata": {},
     "output_type": "execute_result"
    }
   ],
   "source": [
    "# Grouping is a convenient way to get the mean for each sector of each column\n",
    "df.groupby(by='Sector').mean()\n",
    "\n",
    "# Grouping is a convenient way to get the mean for each sector of each column\n",
    "df.groupby(by='Rep').mean()\n",
    "\n",
    "# Grouping is a convenient way to get the mean for each sector of each column\n",
    "df.groupby(by='Portfolio').mean()\n",
    "\n",
    "# Or we could create a variable to store the name of the function\n",
    "func = 'std'\n",
    "df.groupby(by='Sector').agg(func)\n",
    "\n",
    "# Or we can create a list of functions to aggregate with\n",
    "funcs = ['median', 'std']\n",
    "df.groupby(by='Rep').agg(funcs)\n"
   ]
  },
  {
   "cell_type": "markdown",
   "metadata": {},
   "source": [
    "## Group by Time Period\n",
    "Often we want to group according to a frequency e.g. a group of all values in a single business quarter.\n",
    "\n",
    "We can then call mean for all of the groups, e.g. get the mean Volume per business quarter.\n",
    "\n",
    "A convenient way to group by a frequency is to use the Grouper object (in the pandas namespace).\n",
    "\n",
    "- pd.Grouper\n",
    "- Most commonly used to pass in a frequency\n",
    "- Group by frequencies: B (business day), BQ (business quarter), M (month), Y (year), etc.\n",
    "- It's also possible to group by specific time frequencies e.g. 15d, 1h30min etc.\n",
    "  - See the list of frequency aliases: http://pandas.pydata.org/pandas-docs/stable/user_guide/timeseries.html#offset-aliases"
   ]
  },
  {
   "cell_type": "code",
   "execution_count": null,
   "metadata": {
    "tags": [
     "student_to_fill"
    ]
   },
   "outputs": [],
   "source": [
    "df.groupby(pd.Grouper(freq='BQ')).mean()\n",
    "\n",
    "# Or we could create a variable to store the grouper\n",
    "by_BMonth = pd.Grouper(freq='BM')\n",
    "df.groupby(by=by_BMonth).mean()\n",
    "\n",
    "# Or use teh agg and a list of functions\n",
    "funcs = ['median', 'std']\n",
    "df.groupby(by=by_BMonth).agg(funcs)\n",
    "\n",
    "\n",
    "# Finally we can supply a list of groupers\n",
    "by_BMonth = pd.Grouper(freq='BM')\n",
    "by_Rep = pd.Grouper(key='Rep')\n",
    "by_Sector = pd.Grouper(key='Sector')\n",
    "\n",
    "# And perform a variety of slice and dice operations\n",
    "groups1 = [by_Rep, by_BMonth, by_Sector]\n",
    "df.groupby(by=groups1).agg(funcs)\n",
    "\n",
    "groups2 = [by_Sector, by_Rep, by_BMonth]\n",
    "df.groupby(by=groups2).agg(funcs)\n",
    "\n",
    "groups3 = [by_BMonth, by_Sector, by_Rep]\n",
    "df.groupby(by=groups3).agg(funcs)"
   ]
  },
  {
   "cell_type": "code",
   "execution_count": null,
   "metadata": {
    "tags": [
     "student_to_fill"
    ]
   },
   "outputs": [],
   "source": [
    "# try some more complex grouping with plotting after e.g. group by Quarter, get the mean and plot\n",
    "df_GOOGL['Adj. Open'].groupby(pd.Grouper(freq='Q')).mean()\n",
    "df_GOOGL['Adj. Open'].groupby(pd.Grouper(freq='Q')).mean().plot()\n",
    "\n",
    "df_GOOGL['2017']['Adj. Open'].groupby(pd.Grouper(freq='d')).mean()\n",
    "df_GOOGL['2017']['Adj. Open'].rolling(30).mean()\n",
    "df_GOOGL['2017']['Adj. Open'].rolling(30, min_periods=3).mean()\n",
    "\n",
    "df_GOOGL['2017']['Adj. Open'].groupby(pd.Grouper(freq='15d')).mean()\n",
    "df_GOOGL['Adj. Open'].groupby(pd.Grouper(freq='BQ')).mean()\n",
    "\n",
    "df_GOOGL['Adj. Open'].groupby(pd.Grouper(freq='BQ')).mean()"
   ]
  }
 ],
 "metadata": {
  "celltoolbar": "Tags",
  "kernelspec": {
   "display_name": "Python 3 (ipykernel)",
   "language": "python",
   "name": "python3"
  },
  "language_info": {
   "codemirror_mode": {
    "name": "ipython",
    "version": 3
   },
   "file_extension": ".py",
   "mimetype": "text/x-python",
   "name": "python",
   "nbconvert_exporter": "python",
   "pygments_lexer": "ipython3",
   "version": "3.8.12"
  }
 },
 "nbformat": 4,
 "nbformat_minor": 2
}

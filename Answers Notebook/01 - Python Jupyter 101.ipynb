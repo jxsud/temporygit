{
 "cells": [
  {
   "cell_type": "markdown",
   "metadata": {},
   "source": [
    "<img style=\"float: right;\" width=\"120\" src=\"https://s3.eu-west-1.amazonaws.com/neueda.conygre.com/pydata/images/neueda-logo.jpeg\">\n",
    "<br><br><br>"
   ]
  },
  {
   "cell_type": "markdown",
   "metadata": {},
   "source": [
    "# Python and Jupyter Fundamentals"
   ]
  },
  {
   "cell_type": "markdown",
   "metadata": {},
   "source": [
    "In this introductory section we will look at the basics of the python programming language.\n",
    "\n",
    "This will also give you an opportunity to get a feel for using the Jupyter environment to write and run code.\n"
   ]
  },
  {
   "cell_type": "markdown",
   "metadata": {},
   "source": [
    "## Getting Started with Jupyter\n",
    "\n",
    "The \"Jupyter Notebook\" is a web application that allows you to create and share documents that contain code, narrative text, visualisations and equations.\n",
    "\n",
    "In Jupyter we use the name \"notebook\" for a file that we type code and text (markdown) into.\n",
    "\n",
    "The file that you are reading now is a \"notebook\".\n",
    "\n",
    "We use the name \"cell\" for each box that we type code or text into.\n",
    "\n",
    "A \"notebook\" can have any number of \"cells\"\n",
    "\n",
    "See https://jupyter.org/ for more info.\n",
    "\n",
    "The most basic operations in Jupyter are:\n",
    "- Select a cell by clicking on it.\n",
    "- Once the cursor is flashing in a code cell you can write code.\n",
    "- Run a cell by pressing Ctrl-Enter (stays on the current cell) OR Shift-Enter (highlights the next cell).\n",
    "- If you double click a text cell it will change to edit mode on that cell. Ctrl-Enter will exit edit mode.\n",
    "\n",
    "We'll explore the Jupyter interface further as we progress through the course."
   ]
  },
  {
   "cell_type": "markdown",
   "metadata": {},
   "source": [
    "## Jupyter Cells\n",
    "Jupyter can have different types of cells, some cells have python code, some have \"markdown\"\n",
    "\n",
    "This is a markdown cell\n",
    "\n",
    "You can format the text in markdown cells with <a href=\"https://jupyter-notebook.readthedocs.io/en/stable/examples/Notebook/Working%20With%20Markdown%20Cells.html\">markdown</a> syntax, or html.\n",
    "\n",
    "e.g.\n",
    "\n",
    "**bold text**\n",
    "\n",
    "1. this is\n",
    "2. a\n",
    "3. numbered list"
   ]
  },
  {
   "cell_type": "markdown",
   "metadata": {},
   "source": [
    "# 1. Python Fundamentals"
   ]
  },
  {
   "cell_type": "markdown",
   "metadata": {},
   "source": [
    "## 1-1. Python Operators\n",
    "We'll run each of the code cells below to see some basic mathematical operations."
   ]
  },
  {
   "cell_type": "markdown",
   "metadata": {},
   "source": [
    "1 plus 9 plus 29"
   ]
  },
  {
   "cell_type": "code",
   "execution_count": 1,
   "metadata": {
    "tags": [
     "student_to_fill"
    ]
   },
   "outputs": [
    {
     "data": {
      "text/plain": [
       "39"
      ]
     },
     "execution_count": 1,
     "metadata": {},
     "output_type": "execute_result"
    }
   ],
   "source": [
    "1 + 9 + 29"
   ]
  },
  {
   "cell_type": "markdown",
   "metadata": {},
   "source": [
    "2 times 9 times 10"
   ]
  },
  {
   "cell_type": "code",
   "execution_count": 2,
   "metadata": {
    "tags": [
     "student_to_fill"
    ]
   },
   "outputs": [
    {
     "data": {
      "text/plain": [
       "180"
      ]
     },
     "execution_count": 2,
     "metadata": {},
     "output_type": "execute_result"
    }
   ],
   "source": [
    "2 * 9 * 10"
   ]
  },
  {
   "cell_type": "markdown",
   "metadata": {},
   "source": [
    "2 times 3 + 12"
   ]
  },
  {
   "cell_type": "code",
   "execution_count": 3,
   "metadata": {
    "tags": [
     "student_to_fill"
    ]
   },
   "outputs": [
    {
     "data": {
      "text/plain": [
       "18"
      ]
     },
     "execution_count": 3,
     "metadata": {},
     "output_type": "execute_result"
    }
   ],
   "source": [
    "2 * 3 + 12"
   ]
  },
  {
   "cell_type": "markdown",
   "metadata": {},
   "source": [
    "Python will follow \"PEMDAS\", but it's good practice to use parentheses for clarity"
   ]
  },
  {
   "cell_type": "code",
   "execution_count": 4,
   "metadata": {
    "tags": [
     "student_to_fill"
    ]
   },
   "outputs": [
    {
     "data": {
      "text/plain": [
       "18"
      ]
     },
     "execution_count": 4,
     "metadata": {},
     "output_type": "execute_result"
    }
   ],
   "source": [
    "(2 * 3) + 12"
   ]
  },
  {
   "cell_type": "markdown",
   "metadata": {},
   "source": [
    "spaces help also - see how the brackets change the result"
   ]
  },
  {
   "cell_type": "code",
   "execution_count": 5,
   "metadata": {
    "tags": [
     "student_to_fill"
    ]
   },
   "outputs": [
    {
     "data": {
      "text/plain": [
       "30"
      ]
     },
     "execution_count": 5,
     "metadata": {},
     "output_type": "execute_result"
    }
   ],
   "source": [
    "2 * (3 + 12)"
   ]
  },
  {
   "cell_type": "markdown",
   "metadata": {},
   "source": [
    "(3+4)squared – (4 - 2)squared"
   ]
  },
  {
   "cell_type": "code",
   "execution_count": 6,
   "metadata": {
    "tags": [
     "student_to_fill"
    ]
   },
   "outputs": [
    {
     "data": {
      "text/plain": [
       "45"
      ]
     },
     "execution_count": 6,
     "metadata": {},
     "output_type": "execute_result"
    }
   ],
   "source": [
    "(3 + 4)**2 - (4 - 2)**2"
   ]
  },
  {
   "cell_type": "markdown",
   "metadata": {},
   "source": [
    "remainder of 7 divided by 4"
   ]
  },
  {
   "cell_type": "code",
   "execution_count": 7,
   "metadata": {
    "tags": [
     "student_to_fill"
    ]
   },
   "outputs": [
    {
     "data": {
      "text/plain": [
       "3"
      ]
     },
     "execution_count": 7,
     "metadata": {},
     "output_type": "execute_result"
    }
   ],
   "source": [
    "7 % 4"
   ]
  },
  {
   "cell_type": "markdown",
   "metadata": {},
   "source": [
    "### Common Operators\n",
    "\n",
    "<br>a+b\t,\taddition\n",
    "\n",
    "<br>a-b\t,\tsubtraction\n",
    "\n",
    "<br>a*b\t,\tmultiplication\n",
    "\n",
    "<br>a/b\t,\tdivision \n",
    "\n",
    "<br>a//b\tfloor division (e.g. 5//2=2)\n",
    "\n",
    "<br>a%b\t,\tmodulo\n",
    "\n",
    "<br>-a\t,\tnegation\n",
    "\n",
    "<br>abs(a)\t,\tabsolute value\n",
    "\n",
    "<br>a**b\t,\texponent\n",
    "\n",
    "<br>math.sqrt(a)\t,\tsquare root"
   ]
  },
  {
   "cell_type": "code",
   "execution_count": 8,
   "metadata": {
    "tags": [
     "student_to_fill"
    ]
   },
   "outputs": [
    {
     "data": {
      "text/plain": [
       "7.0"
      ]
     },
     "execution_count": 8,
     "metadata": {},
     "output_type": "execute_result"
    }
   ],
   "source": [
    "# math for square root\n",
    "import math\n",
    "\n",
    "math.sqrt(49)"
   ]
  },
  {
   "cell_type": "markdown",
   "metadata": {},
   "source": [
    "### Exercise 1\n",
    "- Write python code to do each of the following simple calculations.<br>\n",
    "- You can put them all in a single cell.<br>\n",
    ">- (8 + 15) - 10\n",
    ">- $7^{2}$ - 7 + 12\n",
    ">- 12.2 \\* 5.7 \\* $\\frac{1}{4}$\n",
    ">- remainder of 12 divided by 5\n",
    ">- $\\sqrt{4^{2} + 3^{2}}$\n",
    "\n",
    "\n",
    "Notice that by default jupyter will print the result of the last line of code only.\n",
    "  - Everything after a **#** symbol in a line won't be run.\n",
    "  - You can use this to \"comment out\" lines"
   ]
  },
  {
   "cell_type": "code",
   "execution_count": 9,
   "metadata": {
    "tags": [
     "student_to_fill"
    ]
   },
   "outputs": [
    {
     "name": "stdout",
     "output_type": "stream",
     "text": [
      "13\n",
      "54\n",
      "17.384999999999998\n",
      "2\n",
      "5.0\n"
     ]
    }
   ],
   "source": [
    "# Do the exercise here\n",
    "print((8 + 15) - 10 )\n",
    "print(7**2 - 7 + 12)\n",
    "print(12.2 * 5.7 * (1/4))\n",
    "print( 12 % 5 )\n",
    "print(math.sqrt(4**2 + 3**2))"
   ]
  },
  {
   "cell_type": "markdown",
   "metadata": {},
   "source": [
    "## 1-2. Variables\n",
    "\n",
    "A \"variable\" is a name used to store values\n",
    "\n",
    "You can save the results of a computation into a variable for later use."
   ]
  },
  {
   "cell_type": "code",
   "execution_count": 10,
   "metadata": {
    "tags": [
     "student_to_fill"
    ]
   },
   "outputs": [],
   "source": [
    "x = 25 + 13"
   ]
  },
  {
   "cell_type": "markdown",
   "metadata": {},
   "source": [
    "Here the contents of x are displayed because it is the last line of code in the cell"
   ]
  },
  {
   "cell_type": "code",
   "execution_count": 11,
   "metadata": {
    "tags": [
     "student_to_fill"
    ]
   },
   "outputs": [
    {
     "data": {
      "text/plain": [
       "38"
      ]
     },
     "execution_count": 11,
     "metadata": {},
     "output_type": "execute_result"
    }
   ],
   "source": [
    "x"
   ]
  },
  {
   "cell_type": "markdown",
   "metadata": {},
   "source": [
    "We can \"print\" the variable x\n",
    "\n",
    "Here the contents of x will be displayed even if it is not the last line of code in the cell\n",
    "\n",
    "The contents of the last line are still displayed"
   ]
  },
  {
   "cell_type": "code",
   "execution_count": 12,
   "metadata": {
    "tags": [
     "student_to_fill"
    ]
   },
   "outputs": [
    {
     "name": "stdout",
     "output_type": "stream",
     "text": [
      "48\n"
     ]
    },
    {
     "data": {
      "text/plain": [
       "'what is this?'"
      ]
     },
     "execution_count": 12,
     "metadata": {},
     "output_type": "execute_result"
    }
   ],
   "source": [
    "# change x\n",
    "x = x + 10\n",
    "\n",
    "print(x)\n",
    "\n",
    "# create more variables e.g. y\n",
    "y = 'what is this?'\n",
    "\n",
    "y"
   ]
  },
  {
   "cell_type": "markdown",
   "metadata": {},
   "source": [
    "## 1-3. Jupyter Keyboard Shortcuts\n",
    "\n",
    "When there is a **green** bar beside the current cell you are in **Edit** mode.\n",
    "When there is a **blue** bar beside the current cell you are in **Command** mode.\n",
    "\n",
    "\n",
    "Double click a cell, or press Enter when it's highlighted to enter **Edit** mode. Now you are changing the contents of the cell.\n",
    "\n",
    "Press Escape to return to **Command** mode, now you can use keyboard shortcuts to add, remove, change cell types etc.\n",
    "\n",
    "In **Command** mode press 'h' to see a list of all keyboard shortcuts.\n",
    "\n",
    "Some useful keyboard shortcuts are:\n",
    "\n",
    "Press \"Shift + Enter\" to execute the current cell and move to the next one, or create a new one if this is the last cell.\n",
    "\n",
    "Press \"Ctrl + Enter\" to execute the current cell and keep the same cell selected.\n",
    "\n",
    "Add / delete cells:\n",
    "- \"a\" to insert a new cell before\n",
    "- \"b\" to insert a new cell after\n",
    "- \"d\" TWICE to delete a cell\n",
    "\n",
    "Toggle between code and text:\n",
    "- \"y\" for code\n",
    "- \"m\" for markdown\n"
   ]
  },
  {
   "cell_type": "markdown",
   "metadata": {},
   "source": [
    "## 1-4. Strings"
   ]
  },
  {
   "cell_type": "markdown",
   "metadata": {},
   "source": [
    "In Python we can use single quotes to denote a string"
   ]
  },
  {
   "cell_type": "code",
   "execution_count": 13,
   "metadata": {
    "tags": [
     "student_to_fill"
    ]
   },
   "outputs": [],
   "source": [
    "my_string_var = 'Hello'"
   ]
  },
  {
   "cell_type": "markdown",
   "metadata": {},
   "source": [
    "We can also use double quotes to denote a string"
   ]
  },
  {
   "cell_type": "code",
   "execution_count": 14,
   "metadata": {
    "tags": [
     "student_to_fill"
    ]
   },
   "outputs": [],
   "source": [
    "another_string_var = \"World!\""
   ]
  },
  {
   "cell_type": "markdown",
   "metadata": {},
   "source": [
    "Strings can be concatenated using the + operator"
   ]
  },
  {
   "cell_type": "code",
   "execution_count": 15,
   "metadata": {
    "tags": [
     "student_to_fill"
    ]
   },
   "outputs": [
    {
     "data": {
      "text/plain": [
       "'Hello World!'"
      ]
     },
     "execution_count": 15,
     "metadata": {},
     "output_type": "execute_result"
    }
   ],
   "source": [
    "hello_world = my_string_var + \" \" + another_string_var\n",
    "hello_world"
   ]
  },
  {
   "cell_type": "markdown",
   "metadata": {},
   "source": [
    "We can find the length of a string"
   ]
  },
  {
   "cell_type": "code",
   "execution_count": 16,
   "metadata": {
    "tags": [
     "student_to_fill"
    ]
   },
   "outputs": [
    {
     "data": {
      "text/plain": [
       "12"
      ]
     },
     "execution_count": 16,
     "metadata": {},
     "output_type": "execute_result"
    }
   ],
   "source": [
    "len(hello_world)"
   ]
  },
  {
   "cell_type": "markdown",
   "metadata": {},
   "source": [
    "Print can take an expression as an argument and print the expression's result\n",
    "\n",
    "e.g. the length of A, \" \" and B\n"
   ]
  },
  {
   "cell_type": "code",
   "execution_count": 17,
   "metadata": {
    "tags": [
     "student_to_fill"
    ]
   },
   "outputs": [
    {
     "name": "stdout",
     "output_type": "stream",
     "text": [
      "12\n"
     ]
    }
   ],
   "source": [
    "print( len(my_string_var + \" \" + another_string_var) )"
   ]
  },
  {
   "cell_type": "markdown",
   "metadata": {},
   "source": [
    "Locate the position of the 1st occurrence of a particular character in a string\n",
    "\n",
    "e.g. 'o'"
   ]
  },
  {
   "cell_type": "code",
   "execution_count": 18,
   "metadata": {
    "tags": [
     "student_to_fill"
    ]
   },
   "outputs": [
    {
     "data": {
      "text/plain": [
       "4"
      ]
     },
     "execution_count": 18,
     "metadata": {},
     "output_type": "execute_result"
    }
   ],
   "source": [
    "hello_world.find('o')"
   ]
  },
  {
   "cell_type": "markdown",
   "metadata": {},
   "source": [
    "We can count the occurrences of a letter within a string\n",
    "\n",
    "how many H's, l's and B's\n"
   ]
  },
  {
   "cell_type": "code",
   "execution_count": 19,
   "metadata": {
    "tags": [
     "student_to_fill"
    ]
   },
   "outputs": [
    {
     "name": "stdout",
     "output_type": "stream",
     "text": [
      "1\n",
      "0\n",
      "0\n"
     ]
    }
   ],
   "source": [
    "print( hello_world.count('H') )\n",
    "print( hello_world.count('I') )\n",
    "print( hello_world.count('B') )"
   ]
  },
  {
   "cell_type": "markdown",
   "metadata": {},
   "source": [
    "### More String Functions\n",
    "\n",
    "upper()\n",
    "\n",
    "lower()\n",
    "\n",
    "startswith()\n",
    "\n",
    "endswith()"
   ]
  },
  {
   "cell_type": "code",
   "execution_count": 20,
   "metadata": {
    "tags": [
     "student_to_fill"
    ]
   },
   "outputs": [
    {
     "data": {
      "text/plain": [
       "'Hello World'"
      ]
     },
     "execution_count": 20,
     "metadata": {},
     "output_type": "execute_result"
    }
   ],
   "source": [
    "# Create a \"Hello World\" string - concatenate A and B\n",
    "hello_world = \"Hello World\"\n",
    "hello_world"
   ]
  },
  {
   "cell_type": "code",
   "execution_count": 21,
   "metadata": {
    "tags": [
     "student_to_fill"
    ]
   },
   "outputs": [
    {
     "data": {
      "text/plain": [
       "False"
      ]
     },
     "execution_count": 21,
     "metadata": {},
     "output_type": "execute_result"
    }
   ],
   "source": [
    "# does lower case end with 'RLD'?\n",
    "hello_world.lower().endswith('RLD')"
   ]
  },
  {
   "cell_type": "code",
   "execution_count": 22,
   "metadata": {
    "tags": [
     "student_to_fill"
    ]
   },
   "outputs": [
    {
     "data": {
      "text/plain": [
       "True"
      ]
     },
     "execution_count": 22,
     "metadata": {},
     "output_type": "execute_result"
    }
   ],
   "source": [
    "# does upper case end with 'RLD'?\n",
    "hello_world.upper().endswith('RLD')"
   ]
  },
  {
   "cell_type": "code",
   "execution_count": 23,
   "metadata": {
    "tags": [
     "student_to_fill"
    ]
   },
   "outputs": [
    {
     "data": {
      "text/plain": [
       "False"
      ]
     },
     "execution_count": 23,
     "metadata": {},
     "output_type": "execute_result"
    }
   ],
   "source": [
    "# does upper case start with 'RLD'?\n",
    "hello_world.upper().startswith('RLD')"
   ]
  },
  {
   "cell_type": "markdown",
   "metadata": {},
   "source": [
    "Documentation on common string operations can be found here - https://docs.python.org/3/library/string.html"
   ]
  },
  {
   "cell_type": "markdown",
   "metadata": {},
   "source": [
    "### Exercise 3\n",
    "Complete the following steps in a single code cell\n",
    "1. Create a string containing your first name and assign it to a variable called \"first_name\"\n",
    "2. Create a string containing your last name and assign it to a variable called \"last_name\"\n",
    "3. Print both strings on one line with a space between them\n",
    "4. Concatenate the strings  with a space between them, and store the result in a new variable called \"full_name\"\n",
    "5. Print the length of the full_name string\n",
    "5. Print how many times the first letter of your name appears in the entire full_name string"
   ]
  },
  {
   "cell_type": "code",
   "execution_count": 24,
   "metadata": {
    "tags": [
     "student_to_fill"
    ]
   },
   "outputs": [
    {
     "name": "stdout",
     "output_type": "stream",
     "text": [
      "Guido van Rossum\n",
      "16\n",
      "1\n"
     ]
    }
   ],
   "source": [
    "# Do the exercise here\n",
    "first_name = 'Guido'\n",
    "last_name = 'van Rossum'\n",
    "\n",
    "print(first_name + ' ' + last_name)\n",
    "\n",
    "full_name = first_name + ' ' + last_name\n",
    "\n",
    "print(len(full_name))\n",
    "\n",
    "print( full_name.lower().count('g'))"
   ]
  },
  {
   "cell_type": "markdown",
   "metadata": {},
   "source": [
    "### 1-5. Slicing Strings\n",
    "\n",
    "Slicing is a way to select a subsection of a string.\n",
    "\n",
    "The same slicing notation is used in Python to get a subsection of many other types of data e.g. lists of data, tables of data etc.\n",
    "\n",
    "Because of this, slicing is an important topic and a rudimentary understanding is needed before we move on to manipulating tables.\n",
    "\n",
    "In Python, collections of data almost always call the first position 0 (ZERO) i.e. NOT 1\n",
    "\n",
    "The general syntax for slicing is:\n",
    ">string_to_slice [start : stop : step]\n",
    "\n",
    "- **start** is the position to start the slice from\n",
    "- **stop** is the position AFTER the end of the slice\n",
    "- **step** is how many steps between each item (steps of 2, 3, 4, etc.)\n",
    "  - If step is left out then a value of 1 is assumed\n"
   ]
  },
  {
   "cell_type": "code",
   "execution_count": 25,
   "metadata": {
    "scrolled": true,
    "tags": [
     "student_to_fill"
    ]
   },
   "outputs": [
    {
     "data": {
      "text/plain": [
       "'Hello World'"
      ]
     },
     "execution_count": 25,
     "metadata": {},
     "output_type": "execute_result"
    }
   ],
   "source": [
    "# check that we still have our \"Hello World\" string\n",
    "hello_world"
   ]
  },
  {
   "cell_type": "markdown",
   "metadata": {},
   "source": [
    "Now slice the string to display: \n",
    "\n",
    ">lo Worl"
   ]
  },
  {
   "cell_type": "code",
   "execution_count": 26,
   "metadata": {
    "tags": [
     "student_to_fill"
    ]
   },
   "outputs": [
    {
     "data": {
      "text/plain": [
       "'lo Worl'"
      ]
     },
     "execution_count": 26,
     "metadata": {},
     "output_type": "execute_result"
    }
   ],
   "source": [
    "hello_world[3:10]"
   ]
  },
  {
   "cell_type": "markdown",
   "metadata": {},
   "source": [
    "Now slice the string to display\n",
    ">l ol"
   ]
  },
  {
   "cell_type": "code",
   "execution_count": 27,
   "metadata": {
    "tags": [
     "student_to_fill"
    ]
   },
   "outputs": [
    {
     "data": {
      "text/plain": [
       "'l ol'"
      ]
     },
     "execution_count": 27,
     "metadata": {},
     "output_type": "execute_result"
    }
   ],
   "source": [
    "hello_world[3:10:2]"
   ]
  },
  {
   "cell_type": "markdown",
   "metadata": {},
   "source": [
    "If we leave out \"start\" then the beginning of the string is assumed. Use this to display\n",
    ">Hello W"
   ]
  },
  {
   "cell_type": "code",
   "execution_count": 28,
   "metadata": {
    "tags": [
     "student_to_fill"
    ]
   },
   "outputs": [
    {
     "data": {
      "text/plain": [
       "'Hello W'"
      ]
     },
     "execution_count": 28,
     "metadata": {},
     "output_type": "execute_result"
    }
   ],
   "source": [
    "hello_world[:7]"
   ]
  },
  {
   "cell_type": "markdown",
   "metadata": {},
   "source": [
    "If we leave out \"start\" then the beginning of the string is assumed. Use this to display\n",
    ">lo World"
   ]
  },
  {
   "cell_type": "code",
   "execution_count": 29,
   "metadata": {
    "tags": [
     "student_to_fill"
    ]
   },
   "outputs": [
    {
     "data": {
      "text/plain": [
       "'lo World'"
      ]
     },
     "execution_count": 29,
     "metadata": {},
     "output_type": "execute_result"
    }
   ],
   "source": [
    "hello_world[3:]"
   ]
  },
  {
   "cell_type": "markdown",
   "metadata": {},
   "source": [
    "check if lower case of slice [3:10:2] ends with 'ol'?"
   ]
  },
  {
   "cell_type": "code",
   "execution_count": null,
   "metadata": {
    "tags": [
     "student_to_fill"
    ]
   },
   "outputs": [],
   "source": []
  },
  {
   "cell_type": "markdown",
   "metadata": {},
   "source": [
    "### Splitting Strings"
   ]
  },
  {
   "cell_type": "markdown",
   "metadata": {},
   "source": [
    "the 'split' function splits on whitespace by default"
   ]
  },
  {
   "cell_type": "code",
   "execution_count": 30,
   "metadata": {
    "tags": [
     "student_to_fill"
    ]
   },
   "outputs": [
    {
     "data": {
      "text/plain": [
       "['Once', 'upon', 'a', 'time.']"
      ]
     },
     "execution_count": 30,
     "metadata": {},
     "output_type": "execute_result"
    }
   ],
   "source": [
    "C = \"Once upon a time.\"\n",
    "\n",
    "C.split()"
   ]
  },
  {
   "cell_type": "code",
   "execution_count": 31,
   "metadata": {
    "tags": [
     "student_to_fill"
    ]
   },
   "outputs": [
    {
     "data": {
      "text/plain": [
       "['EUR', ' USD', ' JYP', ' GBP']"
      ]
     },
     "execution_count": 31,
     "metadata": {},
     "output_type": "execute_result"
    }
   ],
   "source": [
    "# How would you split on ','?\n",
    "currencies = \"EUR, USD, JYP, GBP\"\n",
    "\n",
    "currencies.split(',')"
   ]
  },
  {
   "cell_type": "markdown",
   "metadata": {},
   "source": [
    "### Exercise 4\n",
    "Complete the following steps in a single cell:\n",
    "1. Create a string \"Wrangling Data\" in a variable called test_string\n",
    "2. Using Slicing, print the following sections of the test_string:\n",
    "    - Wran\n",
    "    - Wrangling\n",
    "    - gDt\n",
    "    - Dat\n",
    "3. Print the list of strings produced when you split this string at each space"
   ]
  },
  {
   "cell_type": "code",
   "execution_count": 32,
   "metadata": {
    "tags": [
     "student_to_fill"
    ]
   },
   "outputs": [
    {
     "name": "stdout",
     "output_type": "stream",
     "text": [
      "Wran\n",
      "Wrangling\n",
      "gDt\n",
      "Dat\n"
     ]
    }
   ],
   "source": [
    "# Do the exercise here\n",
    "test_string = \"Wrangling Data\"\n",
    "\n",
    "print(test_string[:4])\n",
    "print(test_string[:9])\n",
    "print(test_string[8::2])\n",
    "print(test_string[-4:-1])\n",
    "\n"
   ]
  },
  {
   "cell_type": "markdown",
   "metadata": {},
   "source": [
    "# 2. Collections of Data\n",
    "\n",
    "So far we have looked at variables representing an individual value e.g. a number, a string\n",
    "\n",
    "Python has a number of ways to store \"collections\" of values.\n",
    "\n",
    "The two most commonly used structures are:\n",
    "- **List:** A simple ordered collection of values. Values do NOT need to be the same type.\n",
    "- **Dictionary:** A collection of \"key\"/\"value\" pairs, often used as a type of \"lookup\" table "
   ]
  },
  {
   "cell_type": "markdown",
   "metadata": {},
   "source": [
    "## 2-1 Lists\n",
    "\n",
    "An ordered collection of values\n",
    "\n",
    ">i.e. the order is maintained\n",
    "\n",
    "are heterogenous\n",
    "\n",
    ">i.e. vaues can be different types\n",
    "\n",
    "are mutable\n",
    "\n",
    ">i.e. CAN be changed\n",
    "\n",
    "We create a list using **\"square brackets\":** [ ]"
   ]
  },
  {
   "cell_type": "markdown",
   "metadata": {},
   "source": [
    "### Empty List"
   ]
  },
  {
   "cell_type": "code",
   "execution_count": 33,
   "metadata": {
    "tags": [
     "student_to_fill"
    ]
   },
   "outputs": [],
   "source": [
    "# make an empty list called my_list\n",
    "\n",
    "my_list = list()\n",
    "\n",
    "my_list = []"
   ]
  },
  {
   "cell_type": "markdown",
   "metadata": {},
   "source": [
    "### List of Integers"
   ]
  },
  {
   "cell_type": "code",
   "execution_count": 34,
   "metadata": {
    "tags": [
     "student_to_fill"
    ]
   },
   "outputs": [],
   "source": [
    "# make my_list a list of integers\n",
    "\n",
    "my_list = [2, 5, 4, 2, 4, 7]"
   ]
  },
  {
   "cell_type": "markdown",
   "metadata": {},
   "source": [
    "### List with mixed data types"
   ]
  },
  {
   "cell_type": "code",
   "execution_count": 35,
   "metadata": {
    "tags": [
     "student_to_fill"
    ]
   },
   "outputs": [],
   "source": [
    "# make my_list contain the values 1, \"Hello\" and 3.4\n",
    "my_list = [1, \"Hello\", 3.4]"
   ]
  },
  {
   "cell_type": "markdown",
   "metadata": {},
   "source": [
    "### Nested Lists\n",
    "i.e. lists can contain other lists"
   ]
  },
  {
   "cell_type": "code",
   "execution_count": 36,
   "metadata": {
    "tags": [
     "student_to_fill"
    ]
   },
   "outputs": [
    {
     "name": "stdout",
     "output_type": "stream",
     "text": [
      "[1, 'Hello', 3.4, ['test', 2.4]]\n"
     ]
    }
   ],
   "source": [
    "my_list.append(['test', 2.4])\n",
    "\n",
    "print(my_list)"
   ]
  },
  {
   "cell_type": "markdown",
   "metadata": {},
   "source": [
    "### List indexing\n",
    "Similar to strings, we use square brackets to find an element in a list"
   ]
  },
  {
   "cell_type": "code",
   "execution_count": 37,
   "metadata": {
    "tags": [
     "student_to_fill"
    ]
   },
   "outputs": [
    {
     "data": {
      "text/plain": [
       "'p'"
      ]
     },
     "execution_count": 37,
     "metadata": {},
     "output_type": "execute_result"
    }
   ],
   "source": [
    "my_list = ['p','r','o','b','e']\n",
    "# print just the first value i.e. p\n",
    "\n",
    "my_list[0]"
   ]
  },
  {
   "cell_type": "code",
   "execution_count": 38,
   "metadata": {
    "tags": [
     "student_to_fill"
    ]
   },
   "outputs": [
    {
     "data": {
      "text/plain": [
       "'o'"
      ]
     },
     "execution_count": 38,
     "metadata": {},
     "output_type": "execute_result"
    }
   ],
   "source": [
    "# print the third value i.e. o\n",
    "\n",
    "my_list[2]"
   ]
  },
  {
   "cell_type": "code",
   "execution_count": 39,
   "metadata": {
    "tags": [
     "student_to_fill"
    ]
   },
   "outputs": [
    {
     "data": {
      "text/plain": [
       "'e'"
      ]
     },
     "execution_count": 39,
     "metadata": {},
     "output_type": "execute_result"
    }
   ],
   "source": [
    "# print the last value i.e. e\n",
    "\n",
    "my_list[-1]"
   ]
  },
  {
   "cell_type": "code",
   "execution_count": 40,
   "metadata": {
    "tags": [
     "student_to_fill"
    ]
   },
   "outputs": [
    {
     "ename": "TypeError",
     "evalue": "list indices must be integers or slices, not float",
     "output_type": "error",
     "traceback": [
      "\u001b[1;31m---------------------------------------------------------------------------\u001b[0m",
      "\u001b[1;31mTypeError\u001b[0m                                 Traceback (most recent call last)",
      "\u001b[1;32m<ipython-input-40-52e6b29b1afc>\u001b[0m in \u001b[0;36m<module>\u001b[1;34m\u001b[0m\n\u001b[0;32m      6\u001b[0m \u001b[1;31m# Only integers can be used for indexing\u001b[0m\u001b[1;33m\u001b[0m\u001b[1;33m\u001b[0m\u001b[1;33m\u001b[0m\u001b[0m\n\u001b[0;32m      7\u001b[0m \u001b[1;33m\u001b[0m\u001b[0m\n\u001b[1;32m----> 8\u001b[1;33m \u001b[0mmy_list\u001b[0m\u001b[1;33m[\u001b[0m\u001b[1;36m4.0\u001b[0m\u001b[1;33m]\u001b[0m\u001b[1;33m\u001b[0m\u001b[1;33m\u001b[0m\u001b[0m\n\u001b[0m\u001b[0;32m      9\u001b[0m \u001b[1;31m# Cannot get list[4.5], list[4.22], etc.\u001b[0m\u001b[1;33m\u001b[0m\u001b[1;33m\u001b[0m\u001b[1;33m\u001b[0m\u001b[0m\n",
      "\u001b[1;31mTypeError\u001b[0m: list indices must be integers or slices, not float"
     ]
    }
   ],
   "source": [
    "# This cell will throw an Error!\n",
    "\n",
    "# Try to make sense of the error message \n",
    "# - usually the last line contains the most useful information.\n",
    "\n",
    "# Only integers can be used for indexing\n",
    "\n",
    "my_list[4.0]\n",
    "# Cannot get list[4.5], list[4.22], etc."
   ]
  },
  {
   "cell_type": "markdown",
   "metadata": {},
   "source": [
    "Lists can contain more lists, we use **more** square brackets to get a value from the \"sub list\""
   ]
  },
  {
   "cell_type": "code",
   "execution_count": 41,
   "metadata": {
    "tags": [
     "student_to_fill"
    ]
   },
   "outputs": [
    {
     "data": {
      "text/plain": [
       "1"
      ]
     },
     "execution_count": 41,
     "metadata": {},
     "output_type": "execute_result"
    }
   ],
   "source": [
    "# Nested List\n",
    "n_list = [\"Happy\", [2,0,1,5]]\n",
    "\n",
    "# how to access the sub-list? e.g. display 1\n",
    "\n",
    "n_list[1][2]"
   ]
  },
  {
   "cell_type": "code",
   "execution_count": 42,
   "metadata": {
    "tags": [
     "student_to_fill"
    ]
   },
   "outputs": [
    {
     "data": {
      "text/plain": [
       "'a'"
      ]
     },
     "execution_count": 42,
     "metadata": {},
     "output_type": "execute_result"
    }
   ],
   "source": [
    "# Nested indexing\n",
    "\n",
    "# Output: a\n",
    "n_list[0][1]"
   ]
  },
  {
   "cell_type": "markdown",
   "metadata": {},
   "source": [
    "List slicing is the same a string slicing"
   ]
  },
  {
   "cell_type": "code",
   "execution_count": 43,
   "metadata": {
    "tags": [
     "student_to_fill"
    ]
   },
   "outputs": [
    {
     "data": {
      "text/plain": [
       "['t', 'a', 'f']"
      ]
     },
     "execution_count": 43,
     "metadata": {},
     "output_type": "execute_result"
    }
   ],
   "source": [
    "my_list = ['d','a','t','a','f','l','a','m','e']\n",
    "# Elements 3rd to 5th\n",
    "\n",
    "my_list[2:5]"
   ]
  },
  {
   "cell_type": "markdown",
   "metadata": {},
   "source": [
    "In all Python slicing we can use negative numbers to start counting from the end\n",
    "\n",
    "This works for strings also"
   ]
  },
  {
   "cell_type": "code",
   "execution_count": 44,
   "metadata": {
    "tags": [
     "student_to_fill"
    ]
   },
   "outputs": [
    {
     "data": {
      "text/plain": [
       "['d', 'a', 't', 'a']"
      ]
     },
     "execution_count": 44,
     "metadata": {},
     "output_type": "execute_result"
    }
   ],
   "source": [
    "# Elements beginning to 4th\n",
    "\n",
    "my_list[:4]"
   ]
  },
  {
   "cell_type": "code",
   "execution_count": 46,
   "metadata": {
    "tags": [
     "student_to_fill"
    ]
   },
   "outputs": [
    {
     "data": {
      "text/plain": [
       "['l', 'a', 'm', 'e']"
      ]
     },
     "execution_count": 46,
     "metadata": {},
     "output_type": "execute_result"
    }
   ],
   "source": [
    "# Elements 6th to end\n",
    "my_list[5:]"
   ]
  },
  {
   "cell_type": "code",
   "execution_count": 47,
   "metadata": {
    "tags": [
     "student_to_fill"
    ]
   },
   "outputs": [
    {
     "data": {
      "text/plain": [
       "['d', 'a', 't', 'a', 'f', 'l', 'a', 'm', 'e']"
      ]
     },
     "execution_count": 47,
     "metadata": {},
     "output_type": "execute_result"
    }
   ],
   "source": [
    "# Elements beginning to end\n",
    "my_list[:]"
   ]
  },
  {
   "cell_type": "code",
   "execution_count": 48,
   "metadata": {
    "tags": [
     "student_to_fill"
    ]
   },
   "outputs": [
    {
     "data": {
      "text/plain": [
       "9"
      ]
     },
     "execution_count": 48,
     "metadata": {},
     "output_type": "execute_result"
    }
   ],
   "source": [
    "# Length of my_list\n",
    "len(my_list)"
   ]
  },
  {
   "cell_type": "markdown",
   "metadata": {},
   "source": [
    "Some more complicated slicing examples"
   ]
  },
  {
   "cell_type": "code",
   "execution_count": 49,
   "metadata": {
    "tags": [
     "student_to_fill"
    ]
   },
   "outputs": [
    {
     "data": {
      "text/plain": [
       "['d', 'a', 't', 'a', 'f', 'l', 'a', 'm']"
      ]
     },
     "execution_count": 49,
     "metadata": {},
     "output_type": "execute_result"
    }
   ],
   "source": [
    "# All but the last?\n",
    "my_list[:-1]"
   ]
  },
  {
   "cell_type": "code",
   "execution_count": 51,
   "metadata": {
    "tags": [
     "student_to_fill"
    ]
   },
   "outputs": [
    {
     "data": {
      "text/plain": [
       "['e']"
      ]
     },
     "execution_count": 51,
     "metadata": {},
     "output_type": "execute_result"
    }
   ],
   "source": [
    "# Just the last element without using negative indexing?\n",
    "my_list[len(my_list) - 1:]"
   ]
  },
  {
   "cell_type": "markdown",
   "metadata": {},
   "source": [
    "### Exercise 5\n",
    "Complete the following steps in a single code cell:\n",
    "- Create a list containing four strings: \"a\", \"b\", \"c\" and \"d\", store it in a variable called my_list\n",
    "- Print the letter b from the list\n",
    "- Print the letters b and c from the list\n",
    "- Print the length of the list\n",
    "- Print the last 3 elements in the list using negative indexes in your slice\n",
    "- Create a second list with four numbers: 1, 2, 3, 4, store it in variable called my_numbers\n",
    "- What happens if you \"add\" the two lists? E.g.\n",
    "  - **my_big_list = my_list + my_numbers** \n",
    "- Print the new variable my_big_list"
   ]
  },
  {
   "cell_type": "code",
   "execution_count": 60,
   "metadata": {
    "tags": [
     "student_to_fill"
    ]
   },
   "outputs": [
    {
     "name": "stdout",
     "output_type": "stream",
     "text": [
      "b\n",
      "['b', 'c']\n",
      "4\n",
      "['b', 'c', 'd']\n",
      "[1, 2, 3, 4]\n",
      "['a', 'b', 'c', 'd', 1, 2, 3, 4]\n"
     ]
    }
   ],
   "source": [
    "# Do the exercise here\n",
    "\n",
    "my_list = [\"a\", \"b\", \"c\", \"d\"]\n",
    "\n",
    "print(my_list[1])\n",
    "print(my_list[1:3])\n",
    "print(len(my_list))\n",
    "\n",
    "print(my_list[-3:])\n",
    "\n",
    "my_numbers = [1, 2, 3, 4]\n",
    "print(my_numbers)\n",
    "\n",
    "my_big_list = my_list + my_numbers\n",
    "print(my_big_list)"
   ]
  },
  {
   "cell_type": "markdown",
   "metadata": {},
   "source": [
    "### Main List Functions\n",
    "\n",
    "<table align='left'>\n",
    "<tr>\n",
    "<th>Method</th>\n",
    "<th>Description</th>\n",
    "</tr>\n",
    "<tr><td> append() </td><td>Adds an element at \n",
    "  the end of the list</td></tr>\n",
    "<tr><td> clear() </td><td>Removes all the \n",
    "  elements from the list</td></tr>\n",
    "<tr><td> copy() </td><td>Returns a copy of the \n",
    "  list</td></tr>\n",
    "<tr><td> count() </td><td>Returns the number of \n",
    "  elements with the specified value</td></tr>\n",
    "<tr><td> extend() </td><td>Add the elements of a \n",
    "  list (or any iterable), to the end of the current list</td></tr>\n",
    "<tr><td> index() </td><td>Returns the index of \n",
    "  the first element with the specified value</td></tr>\n",
    "<tr><td> insert() </td><td>Adds an element at \n",
    "  the specified position</td></tr>\n",
    "<tr><td> pop() </td><td>Removes the element at the \n",
    "  specified position</td></tr>\n",
    "<tr><td> remove() </td><td>Removes the  \n",
    "  item with the specified value</td></tr>\n",
    "<tr><td> reverse() </td><td>Reverses the order \n",
    "  of the list</td></tr>\n",
    "<tr><td> sort() </td><td>Sorts the list</td></tr>\n",
    "</table>"
   ]
  },
  {
   "cell_type": "markdown",
   "metadata": {},
   "source": [
    "## 2-2. Tuples\n",
    "\n",
    "A tuple is like a 'light-weight' list i.e. another heterogeneous collection of values \n",
    "\n",
    "i.e. can be different types - usually are different types\n",
    "\n",
    "are immutable\n",
    "\n",
    "i.e. cannot be changed\n",
    "\n",
    "Python guaratees tuples are WRITE protected.\n",
    "\n",
    "Create using ()"
   ]
  },
  {
   "cell_type": "markdown",
   "metadata": {},
   "source": [
    "### Empty tuple"
   ]
  },
  {
   "cell_type": "code",
   "execution_count": 61,
   "metadata": {
    "tags": [
     "student_to_fill"
    ]
   },
   "outputs": [
    {
     "name": "stdout",
     "output_type": "stream",
     "text": [
      "()\n"
     ]
    }
   ],
   "source": [
    "my_tuple = ()\n",
    "print(my_tuple)"
   ]
  },
  {
   "cell_type": "markdown",
   "metadata": {},
   "source": [
    "### tuple of integers"
   ]
  },
  {
   "cell_type": "code",
   "execution_count": 62,
   "metadata": {
    "tags": [
     "student_to_fill"
    ]
   },
   "outputs": [
    {
     "name": "stdout",
     "output_type": "stream",
     "text": [
      "(3, 4, 5)\n"
     ]
    }
   ],
   "source": [
    "my_tuple = (3,4,5)\n",
    "print(my_tuple)"
   ]
  },
  {
   "cell_type": "markdown",
   "metadata": {},
   "source": [
    "### tuple of mixed data types"
   ]
  },
  {
   "cell_type": "code",
   "execution_count": 63,
   "metadata": {
    "tags": [
     "student_to_fill"
    ]
   },
   "outputs": [
    {
     "name": "stdout",
     "output_type": "stream",
     "text": [
      "(1, 'Hello', 3.4)\n"
     ]
    }
   ],
   "source": [
    "my_tuple = (1, \"Hello\", 3.4)\n",
    "print(my_tuple)"
   ]
  },
  {
   "cell_type": "markdown",
   "metadata": {},
   "source": [
    "### Nested tuple"
   ]
  },
  {
   "cell_type": "code",
   "execution_count": 64,
   "metadata": {
    "scrolled": true,
    "tags": [
     "student_to_fill"
    ]
   },
   "outputs": [
    {
     "name": "stdout",
     "output_type": "stream",
     "text": [
      "('mouse', [8, 4, 6], (1, 2, 3))\n"
     ]
    }
   ],
   "source": [
    "my_tuple = (\"mouse\", [8, 4, 6], (1, 2, 3))\n",
    "print(my_tuple)"
   ]
  },
  {
   "cell_type": "code",
   "execution_count": 65,
   "metadata": {
    "tags": [
     "student_to_fill"
    ]
   },
   "outputs": [
    {
     "name": "stdout",
     "output_type": "stream",
     "text": [
      "(1, 2, 3, 4)\n",
      "(4, 'five,', 'six')\n"
     ]
    }
   ],
   "source": [
    "my_tuple = (1,2,3,4)\n",
    "\n",
    "print (my_tuple)\n",
    "\n",
    "my_tuple = (4,\"five,\", \"six\")\n",
    "print(my_tuple)"
   ]
  },
  {
   "cell_type": "markdown",
   "metadata": {},
   "source": [
    "### Accessing elements inside a tuple - the same as list - use []"
   ]
  },
  {
   "cell_type": "code",
   "execution_count": 66,
   "metadata": {
    "tags": [
     "student_to_fill"
    ]
   },
   "outputs": [
    {
     "name": "stdout",
     "output_type": "stream",
     "text": [
      "4\n"
     ]
    }
   ],
   "source": [
    "print(my_tuple[0])"
   ]
  },
  {
   "cell_type": "markdown",
   "metadata": {},
   "source": [
    "### Create tuples without ()"
   ]
  },
  {
   "cell_type": "code",
   "execution_count": 67,
   "metadata": {
    "tags": [
     "student_to_fill"
    ]
   },
   "outputs": [
    {
     "name": "stdout",
     "output_type": "stream",
     "text": [
      "(3, 4.6, 'dog')\n"
     ]
    }
   ],
   "source": [
    "my_tuple = 3, 4.6, \"dog\"\n",
    "print(my_tuple)"
   ]
  },
  {
   "cell_type": "markdown",
   "metadata": {},
   "source": [
    "### Unpacking a tuple\n",
    "- Used when tuples are used as the return values from a function\n",
    "\n",
    "- Widely used in the Machine Learning libraries "
   ]
  },
  {
   "cell_type": "code",
   "execution_count": 68,
   "metadata": {
    "tags": [
     "student_to_fill"
    ]
   },
   "outputs": [
    {
     "name": "stdout",
     "output_type": "stream",
     "text": [
      "3\n",
      "4\n",
      "5\n"
     ]
    }
   ],
   "source": [
    "# this is a function called 'foo', it returns a tuple\n",
    "def foo():\n",
    "    return (3,4,5)\n",
    "\n",
    "# we can automatically 'unpack' the tuple returned by the function\n",
    "a, b, c = foo()\n",
    "print(a)\n",
    "print(b)\n",
    "print(c)"
   ]
  },
  {
   "cell_type": "markdown",
   "metadata": {},
   "source": [
    "### Main Tuple Functions\n",
    "\n",
    "<table align='left'>\n",
    "<tr>\n",
    "<th style=\"width:20%\">Method</th>\n",
    "<th>Description</th>\n",
    "</tr>\n",
    "<tr><td> count() </td><td>Returns the number of times a specified value occurs in a tuple</td></tr>\n",
    "<tr><td> index() </td><td>Searches the tuple for a specified value and returns the position of where it was found</td></tr>\n",
    "</table>\n"
   ]
  },
  {
   "cell_type": "markdown",
   "metadata": {},
   "source": [
    "## 2-3. Sets\n",
    "\n",
    "A heterogeneous collection of values i.e. no repeating values\n",
    "\n",
    "Create using {}"
   ]
  },
  {
   "cell_type": "markdown",
   "metadata": {},
   "source": [
    "### Empty Set"
   ]
  },
  {
   "cell_type": "code",
   "execution_count": 69,
   "metadata": {
    "tags": [
     "student_to_fill"
    ]
   },
   "outputs": [
    {
     "name": "stdout",
     "output_type": "stream",
     "text": [
      "{}\n"
     ]
    }
   ],
   "source": [
    "my_set = {}\n",
    "print(my_set)"
   ]
  },
  {
   "cell_type": "markdown",
   "metadata": {},
   "source": [
    "### Set with initial Values"
   ]
  },
  {
   "cell_type": "code",
   "execution_count": 70,
   "metadata": {
    "tags": [
     "student_to_fill"
    ]
   },
   "outputs": [
    {
     "name": "stdout",
     "output_type": "stream",
     "text": [
      "{1, 2, 'USD', 'EUR'}\n"
     ]
    }
   ],
   "source": [
    "my_set = {1, \"USD\", 2, 'EUR'}\n",
    "print(my_set)"
   ]
  },
  {
   "cell_type": "markdown",
   "metadata": {},
   "source": [
    "### Create using set()"
   ]
  },
  {
   "cell_type": "code",
   "execution_count": 72,
   "metadata": {
    "tags": [
     "student_to_fill"
    ]
   },
   "outputs": [
    {
     "name": "stdout",
     "output_type": "stream",
     "text": [
      "{1, 2, 'USD', 'EUR'}\n"
     ]
    }
   ],
   "source": [
    "my_set = set({1, \"USD\", 2, 'EUR'})\n",
    "print(my_set)"
   ]
  },
  {
   "cell_type": "markdown",
   "metadata": {},
   "source": [
    "### Set of tuples"
   ]
  },
  {
   "cell_type": "code",
   "execution_count": 73,
   "metadata": {
    "tags": [
     "student_to_fill"
    ]
   },
   "outputs": [],
   "source": [
    "my_tuples = [(1,'FB'), (2,'AMZN')]\n",
    "my_set = set(my_tuples)"
   ]
  },
  {
   "cell_type": "markdown",
   "metadata": {},
   "source": [
    "### Main Set Methods\n",
    "\n",
    "<table align='left'>\n",
    "<tr>\n",
    "<th>Method</th>\n",
    "<th>Description</th>\n",
    "</tr>\n",
    "<tr><td> add() </td><td>Adds an element to the set</td></tr>\n",
    "<tr><td> clear() </td><td>Removes all the elements from the set</td></tr>\n",
    "<tr><td> copy() </td><td>Returns a copy of the set</td></tr>\n",
    "<tr><td> difference() </td><td>Returns a set containing the difference between two or more sets</td></tr>\n",
    "<tr><td> difference_update()</td><td>Removes the items in this set that are also included in another, specified set</td></tr>\n",
    "<tr><td> discard() </td><td>Remove the specified item</td></tr>\n",
    "<tr><td> intersection() </td><td>Returns a set, that is the intersection of two other sets</td></tr>\n",
    "<tr><td> intersection_update() </td><td> Removes the items in this set that are not present in other, specified set(s)</td></tr>\n",
    "<tr><td> isdisjoint() </td><td>Returns whether two sets have a intersection or not</td></tr>\n",
    "<tr> <td> issubset() </td><td>Returns whether another set contains this set or not</td></tr>\n",
    "<tr><td> issuperset() </td><td>Returns whether this set contains another set or not</td></tr>\n",
    "<tr><td> pop() </td><td>Removes an element from the set</td></tr>\n",
    "<tr><td> remove() </td><td>Removes the specified element</td></tr>\n",
    "<tr><td> symmetric_difference() </td><td>Returns a set with the symmetric differences of two sets</td></tr>\n",
    "<tr><td> symmetric_difference_update()</a></td><td> inserts the symmetric differences from this set and another</td></tr>\n",
    "<tr><td> union() </td><td>Return a set containing the union of sets</td></tr>\n",
    "<tr><td> update() </td><td>Update the set with the union of this set and others</td></tr>\n",
    "</table>\n"
   ]
  },
  {
   "cell_type": "markdown",
   "metadata": {},
   "source": [
    "## 2-4. Dictionary\n",
    "\n",
    "A Python dictionary is a heterogeneous collection of key/values pairs\n",
    "\n",
    "Quite often the key is a simple value e.g. an integer or string\n",
    "\n",
    "The values are often complex types e.g. lists or more dictionaries\n",
    "\n",
    "Keys do not need to be of the same type\n",
    "\n",
    ">- Create a dictionary using **curly brackets:** { }\n",
    ">- Put a **colon** between keys and values\n",
    ">- Separate key/value pairs with a **comma**"
   ]
  },
  {
   "cell_type": "markdown",
   "metadata": {},
   "source": [
    "### Empty Dictionary"
   ]
  },
  {
   "cell_type": "code",
   "execution_count": 74,
   "metadata": {
    "tags": [
     "student_to_fill"
    ]
   },
   "outputs": [],
   "source": [
    "my_dict = dict()\n",
    "\n",
    "# OR\n",
    "\n",
    "my_dict = {}"
   ]
  },
  {
   "cell_type": "markdown",
   "metadata": {},
   "source": [
    "### A dictionary with integer keys and string values\n",
    ">1: 'USD', 2: 'EUR'"
   ]
  },
  {
   "cell_type": "code",
   "execution_count": 76,
   "metadata": {
    "tags": [
     "student_to_fill"
    ]
   },
   "outputs": [
    {
     "name": "stdout",
     "output_type": "stream",
     "text": [
      "{1: 'USD', 2: 'EUR'}\n"
     ]
    }
   ],
   "source": [
    "my_dict = {1: 'USD', 2: 'EUR'}\n",
    "\n",
    "print(my_dict)"
   ]
  },
  {
   "cell_type": "markdown",
   "metadata": {},
   "source": [
    "### A dictionary with mixed keys (string and integer) and mixed values (string and list)\n",
    "\n",
    ">'FB': 'a_string_value', 1: [2, 3, 4]"
   ]
  },
  {
   "cell_type": "code",
   "execution_count": 78,
   "metadata": {
    "tags": [
     "student_to_fill"
    ]
   },
   "outputs": [
    {
     "name": "stdout",
     "output_type": "stream",
     "text": [
      "{'FB': 'a_string_value', 1: [2, 3, 4]}\n"
     ]
    }
   ],
   "source": [
    "my_mixed_dict = { 'FB': 'a_string_value', 1: [2, 3, 4]}\n",
    "\n",
    "print(my_mixed_dict)"
   ]
  },
  {
   "cell_type": "markdown",
   "metadata": {},
   "source": [
    "### Accessing dictionary elements\n",
    "\n",
    "We access the elements of a dictionary by putting the required key inside square brackets"
   ]
  },
  {
   "cell_type": "code",
   "execution_count": 82,
   "metadata": {
    "tags": [
     "student_to_fill"
    ]
   },
   "outputs": [
    {
     "name": "stdout",
     "output_type": "stream",
     "text": [
      "a_string_value\n",
      "[2, 3, 4]\n"
     ]
    }
   ],
   "source": [
    "\n",
    "\n",
    "# get the VALUE that corresponds to the KEY 'FB'\n",
    "print(my_mixed_dict['FB'])\n",
    "\n",
    "# get the VALUE that corresponds to the KEY 1\n",
    "print(my_mixed_dict[1])"
   ]
  },
  {
   "cell_type": "markdown",
   "metadata": {},
   "source": [
    "### Using name value pairs to describe attributes of a Stock"
   ]
  },
  {
   "cell_type": "code",
   "execution_count": 89,
   "metadata": {
    "tags": [
     "student_to_fill"
    ]
   },
   "outputs": [
    {
     "name": "stdout",
     "output_type": "stream",
     "text": [
      "Adj Close\n",
      "123.45\n",
      "{'FB': 'Facebook', 'Adj Close': 234.56, 'Vol': 525000}\n",
      "{'FB': 'Facebook', 'Vol': 525000}\n"
     ]
    }
   ],
   "source": [
    "my_dict = {'FB': 'Facebook', 'Adj Close': 123.45}\n",
    "\n",
    "\n",
    "# Output: Adj Close\n",
    "print( list(my_dict.keys())[1] )\n",
    "\n",
    "print(my_dict['Adj Close'])\n",
    "\n",
    "\n",
    "# Update Adj Close to be 234.56\n",
    "my_dict['Adj Close'] = 234.56\n",
    "\n",
    "\n",
    "\n",
    "# Add item 'Vol' = equal to 525000\n",
    "my_dict['Vol'] = 525000\n",
    "\n",
    "print(my_dict)\n",
    "\n",
    "\n",
    "# Remove 'Adj Close'\n",
    "\n",
    "my_dict.pop('Adj Close')\n",
    "print(my_dict)"
   ]
  },
  {
   "cell_type": "markdown",
   "metadata": {},
   "source": [
    "### Dictionaries as lookup tables"
   ]
  },
  {
   "cell_type": "code",
   "execution_count": 90,
   "metadata": {
    "tags": [
     "student_to_fill"
    ]
   },
   "outputs": [
    {
     "data": {
      "text/plain": [
       "1.09"
      ]
     },
     "execution_count": 90,
     "metadata": {},
     "output_type": "execute_result"
    }
   ],
   "source": [
    "rates = {'EUR': 1.09, 'USD': 1.28 }\n",
    "\n",
    "# Print the rate for EUR\n",
    "rates['EUR']\n"
   ]
  },
  {
   "cell_type": "markdown",
   "metadata": {},
   "source": [
    "## Iteration on collections\n",
    "\n",
    "Here we look at ways to \"loop\" over the contents of a collection to operate on each individual element"
   ]
  },
  {
   "cell_type": "code",
   "execution_count": 91,
   "metadata": {
    "tags": [
     "student_to_fill"
    ]
   },
   "outputs": [
    {
     "name": "stdout",
     "output_type": "stream",
     "text": [
      "There\n",
      "was\n",
      "an\n",
      "old\n",
      "woman\n",
      "who\n",
      "lived\n",
      "in\n",
      "a\n",
      "shoe.\n"
     ]
    }
   ],
   "source": [
    "# Over a list\n",
    "wordlist = [\"There\", \"was\", \"an\", \"old\", \"woman\", \"who\", \"lived\", \"in\", \"a\", \"shoe.\"]\n",
    "\n",
    "# iterate over the list to print each word\n",
    "for word in wordlist:\n",
    "    print(word)"
   ]
  },
  {
   "cell_type": "code",
   "execution_count": 92,
   "metadata": {
    "tags": [
     "student_to_fill"
    ]
   },
   "outputs": [
    {
     "name": "stdout",
     "output_type": "stream",
     "text": [
      "There\n",
      "was\n",
      "an\n",
      "old\n",
      "woman\n",
      "who\n",
      "lived\n",
      "in\n",
      "a\n",
      "shoe.\n"
     ]
    }
   ],
   "source": [
    "# Over a tuple\n",
    "wordtuple = (\"She\", \"had\", \"so\", \"many\", \"children\", \"she\", \"didn't\", \"know\", \"what\", \"to\", \"do.\")\n",
    "\n",
    "# it works exactly the same for other collections - e.g. tuple\n",
    "for word in wordlist:\n",
    "    print(word)"
   ]
  },
  {
   "cell_type": "code",
   "execution_count": 93,
   "metadata": {
    "tags": [
     "student_to_fill"
    ]
   },
   "outputs": [
    {
     "name": "stdout",
     "output_type": "stream",
     "text": [
      "There\n",
      "was\n",
      "an\n",
      "old\n",
      "woman\n",
      "who\n",
      "lived\n",
      "in\n",
      "a\n",
      "shoe.\n"
     ]
    }
   ],
   "source": [
    "# Over a set    \n",
    "wordset = {\"She\", \"gave\", \"them\", \"some\", \"broth\", \"and\", \"a\", \"big\", \"slice\", \"of\", \"bread.\"}\n",
    "\n",
    "# same for set\n",
    "for word in wordlist:\n",
    "    print(word)"
   ]
  },
  {
   "cell_type": "code",
   "execution_count": 96,
   "metadata": {
    "tags": [
     "student_to_fill"
    ]
   },
   "outputs": [
    {
     "name": "stdout",
     "output_type": "stream",
     "text": [
      "Then\n",
      "kissed\n",
      "them\n",
      "all\n",
      "soundly\n",
      "and\n",
      "sent\n",
      "them\n",
      "to\n",
      "bed.\n"
     ]
    }
   ],
   "source": [
    "# Over a dictionary   \n",
    "worddict = { '1':\"Then\", \"Two\":\"kissed\",  3:\"them\",  'Four':\"all\",  5:\"soundly\",  \n",
    "             'VI':\"and\", \"seven\":'sent', 8:'them', \"9\":'to', 'X':'bed.'}\n",
    "\n",
    "\n",
    "# a dictionary defaults to iterate over keys, but we have options to get values or both\n",
    "for word in worddict.values():\n",
    "    print(word)"
   ]
  },
  {
   "cell_type": "markdown",
   "metadata": {},
   "source": [
    "## 2-6. List comprehensions\n",
    "\n",
    "List comprehensions provide a concise way to create lists. \n",
    "\n",
    "It consists of brackets containing an expression followed by a for clause, then\n",
    "zero or more for or if clauses. The expressions can be anything, meaning you can\n",
    "put in all kinds of objects in lists.\n",
    "\n",
    "The result will be a new list resulting from evaluating the expression in the\n",
    "context of the for and if clauses which follow it. \n",
    "\n",
    "The list comprehension always returns a result list. "
   ]
  },
  {
   "cell_type": "code",
   "execution_count": 97,
   "metadata": {
    "tags": [
     "student_to_fill"
    ]
   },
   "outputs": [],
   "source": [
    "# A function to check if a word has more than 5 characters\n",
    "def len_gt_five(word):\n",
    "    return len(word) > 5\n",
    "\n",
    "# A lot of words in a paragraph of text\n",
    "verse = '''There was an old woman who lived in a shoe.\n",
    "She had so many children, she didn't know what to do.\n",
    "She gave them some broth and a big slice of bread.`b\n",
    "Then kissed them all soundly and sent them to bed.'''"
   ]
  },
  {
   "cell_type": "code",
   "execution_count": 102,
   "metadata": {
    "tags": [
     "student_to_fill"
    ]
   },
   "outputs": [
    {
     "name": "stdout",
     "output_type": "stream",
     "text": [
      "True\n"
     ]
    },
    {
     "data": {
      "text/plain": [
       "True"
      ]
     },
     "execution_count": 102,
     "metadata": {},
     "output_type": "execute_result"
    }
   ],
   "source": [
    "print(len_gt_five(verse))\n",
    "\n",
    "len_gt_five('shortr')"
   ]
  },
  {
   "cell_type": "markdown",
   "metadata": {},
   "source": [
    "### You could find all words longe than 5 characters like this:"
   ]
  },
  {
   "cell_type": "code",
   "execution_count": 103,
   "metadata": {
    "tags": [
     "student_to_fill"
    ]
   },
   "outputs": [
    {
     "name": "stdout",
     "output_type": "stream",
     "text": [
      "['children,', \"didn't\", 'bread.', 'kissed', 'soundly']\n"
     ]
    }
   ],
   "source": [
    "wordslist = verse.split()\n",
    "\n",
    "long_words = []\n",
    "for word in wordslist:\n",
    "    if len_gt_five(word):\n",
    "        long_words.append(word)\n",
    "\n",
    "print(long_words)"
   ]
  },
  {
   "cell_type": "markdown",
   "metadata": {},
   "source": [
    "### You can obtain the same thing using list comprehension:"
   ]
  },
  {
   "cell_type": "code",
   "execution_count": 104,
   "metadata": {
    "tags": [
     "student_to_fill"
    ]
   },
   "outputs": [
    {
     "name": "stdout",
     "output_type": "stream",
     "text": [
      "['children,', \"didn't\", 'bread.', 'kissed', 'soundly']\n"
     ]
    }
   ],
   "source": [
    "long_words = [word for word in verse.split() if len_gt_five(word)]\n",
    "\n",
    "print(long_words)"
   ]
  },
  {
   "cell_type": "markdown",
   "metadata": {},
   "source": [
    "# 3. Python Logical Statements"
   ]
  },
  {
   "cell_type": "markdown",
   "metadata": {},
   "source": [
    "## 3-1 Conditionals\n",
    "\n",
    "We often want to test if a condition is True or False.\n",
    "\n",
    "There are a number of conditional operators in Python:\n",
    "- **==** : Check if two elements are equal\n",
    "- **!=** : NOT Equal\n",
    "- **>**  : Greater than\n",
    "- **>=** : Greater than OR equal to\n",
    "- **<**  : Less than\n",
    "- **<=** : Less than OR equal to\n",
    "\n",
    "    >Notice the difference between \"a single equals\" and \"double equals\"\n",
    "    >- A single equals makes a variable equal to something (assignment)\n",
    "    >- Double equals is \"asking\" if two statements are the same (querying)\n"
   ]
  },
  {
   "cell_type": "markdown",
   "metadata": {},
   "source": [
    "### Some conditional checks"
   ]
  },
  {
   "cell_type": "code",
   "execution_count": 106,
   "metadata": {
    "tags": [
     "student_to_fill"
    ]
   },
   "outputs": [
    {
     "name": "stdout",
     "output_type": "stream",
     "text": [
      "False\n",
      "True\n",
      "False\n",
      "True\n",
      "False\n",
      "True\n"
     ]
    }
   ],
   "source": [
    "x = 10\n",
    "y = 12\n",
    "\n",
    "# Output: x == y is False\n",
    "print(x == y)\n",
    "\n",
    "# Output: x != y is True\n",
    "print(x != y)\n",
    "\n",
    "# Output: x > y is False\n",
    "print(x > y)\n",
    "\n",
    "# Output: x < y is True\n",
    "print(x < y)\n",
    "\n",
    "# Output: x >= y is False\n",
    "print(x >= y)\n",
    "\n",
    "\n",
    "# Output: x<= y is True\n",
    "\n",
    "print(x <= y)"
   ]
  },
  {
   "cell_type": "markdown",
   "metadata": {},
   "source": [
    "## 3-2. Branching with \"if\"\n",
    "\n",
    "We can use \"if\" or \"if/else\" to execute lines of code based on whether a condition is True or False.\n",
    "\n",
    ">Notice that Python uses indentation to show that code is \"inside\" an \"if\" statement.<br>\n",
    ">Many other languages use brackets for this."
   ]
  },
  {
   "cell_type": "code",
   "execution_count": 110,
   "metadata": {
    "tags": [
     "student_to_fill"
    ]
   },
   "outputs": [
    {
     "name": "stdout",
     "output_type": "stream",
     "text": [
      "This always is printed\n"
     ]
    }
   ],
   "source": [
    "num = -5\n",
    "\n",
    "# Test is num greater than 0, print something if it is, print something else anyway\n",
    "if num > 0:\n",
    "    print(\"Num is greater than 0\")\n",
    "\n",
    "print('This always is printed')"
   ]
  },
  {
   "cell_type": "markdown",
   "metadata": {},
   "source": [
    "## 3-3. Branching with \"if/else\"\n",
    "\n",
    "We can also add an \"else\""
   ]
  },
  {
   "cell_type": "code",
   "execution_count": null,
   "metadata": {
    "tags": [
     "student_to_fill"
    ]
   },
   "outputs": [],
   "source": [
    "num = 3\n",
    "\n",
    "# Test for either positive or Zero, print something different in each case\n",
    "# Test is num greater than 0, print something if it is, print something else anyway\n",
    "if num > 0:\n",
    "    print(\"Num is greater than 0\")\n",
    "else:\n",
    "    print('Small is perfect')"
   ]
  },
  {
   "cell_type": "markdown",
   "metadata": {},
   "source": [
    "#### Testing if a value is \"in\" a collection\n",
    "\n",
    "Python also has easy to read comparisons to check if a value is in a collection\n",
    "- in\n",
    "- not in\n",
    "\n",
    "e.g.\n",
    "- Check if the letter 'a' is in a list:\n",
    "    - **'a' in my_list**\n",
    "- Check if the key 'b' is in a dictionary:\n",
    "    - **'b' in my_dict**"
   ]
  },
  {
   "cell_type": "code",
   "execution_count": 111,
   "metadata": {
    "tags": [
     "student_to_fill"
    ]
   },
   "outputs": [
    {
     "name": "stdout",
     "output_type": "stream",
     "text": [
      "rates has the correct symbols\n"
     ]
    }
   ],
   "source": [
    "rates = {'EUR': 1.09, 'USD': 1.28, 'JPY': 99.25}\n",
    "\n",
    "# check if the key 'JPY' is in the dictionary 'rates', print something in each case\n",
    "if 'JPY' in rates:\n",
    "    print(\"rates has the correct symbols\")"
   ]
  },
  {
   "cell_type": "markdown",
   "metadata": {},
   "source": [
    "#### Exercise 6\n",
    "Complete the following steps in a single cell\n",
    "1. Create a dictionary called my_dict, containing the following data:\n",
    "  - {'first' : 1, 'second': 2, 'third': 3}\n",
    "2. Print the **value** corresponding to the **key** \"second\"\n",
    "3. Print the result of\n",
    "    - my_dict['third'] >= 3\n",
    "4. Write an \"if\" block that prints \"Success\" if the key 'third' is in the dictionary my_dict"
   ]
  },
  {
   "cell_type": "code",
   "execution_count": 115,
   "metadata": {
    "tags": [
     "student_to_fill"
    ]
   },
   "outputs": [
    {
     "name": "stdout",
     "output_type": "stream",
     "text": [
      "2\n",
      "True\n",
      "Success\n"
     ]
    }
   ],
   "source": [
    "my_dict = {'first': 1, 'second': 2, 'third': 3}\n",
    "\n",
    "print(my_dict['second'])\n",
    "\n",
    "print(my_dict['third'] >= 3)\n",
    "\n",
    "if 'third' in my_dict:\n",
    "    print('Success')"
   ]
  },
  {
   "cell_type": "markdown",
   "metadata": {},
   "source": [
    "# 4. Functions\n"
   ]
  },
  {
   "cell_type": "markdown",
   "metadata": {},
   "source": [
    "## 4-1. User Defined functions\n",
    "\n",
    "**What Are User-Defined Functions in Python?**\n",
    "Functions that we define ourselves to do a certain task are referred to as user-defined functions. The way in which we define and call functions in Python has already been discussed.\n",
    "\n",
    "Functions that readily come with Python are called built-in functions. If we use functions written by others via a library they are called library functions.\n",
    "\n",
    "All the other functions that we write on our own fall under user-defined functions. So, our user-defined function could be a library function to someone else.\n",
    "\n",
    "**Advantages of User-Defined Functions**\n",
    "User-defined functions help to decompose a large program into small segments, which makes the program easy to understand, maintain, and debug.\n",
    "If repeated code occurs in a program, the function can be used to include those codes and execute when needed by calling that function.\n",
    "Programmers working on a large project can divide the workload by making different functions.\n",
    "\n",
    "**Syntax**<br>\n",
    ">`def function_name(argument1, argument2, ...) :`<br>\n",
    ">`      statement_1`<br>\n",
    ">`      statement_2`<br>\n",
    ">`      ....`<br>\n"
   ]
  },
  {
   "cell_type": "code",
   "execution_count": 117,
   "metadata": {
    "tags": [
     "student_to_fill"
    ]
   },
   "outputs": [
    {
     "name": "stdout",
     "output_type": "stream",
     "text": [
      "7010\n"
     ]
    }
   ],
   "source": [
    "# write a function that adds two numbers and then call it\n",
    "def add_two_numbers(num1, num2):\n",
    "    return num1 + num2\n",
    "\n",
    "print(add_two_numbers(345, 6665))"
   ]
  },
  {
   "cell_type": "markdown",
   "metadata": {},
   "source": [
    "## 4-2. Python Lambda Functions\n",
    "\n",
    "**What Are Lambda Functions?**<br>\n",
    "In Python, an anonymous function is a function that is defined without a name.\n",
    "\n",
    "While normal functions are defined using the defkeyword, in Python anonymous functions are defined using the lambda keyword.\n",
    "\n",
    "Hence, anonymous functions are also called `lambda` functions.\n",
    "\n",
    "**How To Use Lambda Functions In Python?**<br>\n",
    "A Lambda function in Python has the following syntax:\n",
    "\n",
    ">`lambda arguments: expression`\n",
    "\n",
    "Lambda functions can have any number of arguments but only one expression. <br>\n",
    "expression is evaluated and returned. <br>\n",
    "Lambda functions can be used wherever function objects are required.\n"
   ]
  },
  {
   "cell_type": "code",
   "execution_count": 122,
   "metadata": {
    "tags": [
     "student_to_fill"
    ]
   },
   "outputs": [
    {
     "data": {
      "text/plain": [
       "[50, 860]"
      ]
     },
     "execution_count": 122,
     "metadata": {},
     "output_type": "execute_result"
    }
   ],
   "source": [
    "# create a lambda than multiplies a number by 2\n",
    "\n",
    "list(map(lambda x: x*2, [25, 430]))"
   ]
  }
 ],
 "metadata": {
  "celltoolbar": "Tags",
  "kernelspec": {
   "display_name": "Python 3 (ipykernel)",
   "language": "python",
   "name": "python3"
  },
  "language_info": {
   "codemirror_mode": {
    "name": "ipython",
    "version": 3
   },
   "file_extension": ".py",
   "mimetype": "text/x-python",
   "name": "python",
   "nbconvert_exporter": "python",
   "pygments_lexer": "ipython3",
   "version": "3.8.12"
  }
 },
 "nbformat": 4,
 "nbformat_minor": 2
}
